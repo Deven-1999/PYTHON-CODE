{
 "cells": [
  {
   "cell_type": "markdown",
   "id": "056f6a44-75c9-405c-8971-56dac6eb3fa7",
   "metadata": {},
   "source": [
    "# Python 1st code\n",
    "- lets work with number"
   ]
  },
  {
   "cell_type": "code",
   "execution_count": 8,
   "id": "e488e6d0-466a-4671-a134-399e8530bc14",
   "metadata": {},
   "outputs": [
    {
     "data": {
      "text/plain": [
       "15"
      ]
     },
     "execution_count": 8,
     "metadata": {},
     "output_type": "execute_result"
    }
   ],
   "source": [
    "10 + 5"
   ]
  },
  {
   "cell_type": "code",
   "execution_count": 10,
   "id": "69969ef7-87c5-4175-a5eb-50acfc752144",
   "metadata": {},
   "outputs": [
    {
     "data": {
      "text/plain": [
       "5"
      ]
     },
     "execution_count": 10,
     "metadata": {},
     "output_type": "execute_result"
    }
   ],
   "source": [
    "10 - 5"
   ]
  },
  {
   "cell_type": "code",
   "execution_count": 12,
   "id": "c9669ab0-efd3-47f8-bf18-7fb1349b56eb",
   "metadata": {},
   "outputs": [
    {
     "data": {
      "text/plain": [
       "50"
      ]
     },
     "execution_count": 12,
     "metadata": {},
     "output_type": "execute_result"
    }
   ],
   "source": [
    "10*5"
   ]
  },
  {
   "cell_type": "code",
   "execution_count": 14,
   "id": "103d583b-f3d7-4ed6-a5b9-5af8ab1e5af3",
   "metadata": {},
   "outputs": [
    {
     "data": {
      "text/plain": [
       "2.0"
      ]
     },
     "execution_count": 14,
     "metadata": {},
     "output_type": "execute_result"
    }
   ],
   "source": [
    "10/5"
   ]
  },
  {
   "cell_type": "code",
   "execution_count": 16,
   "id": "9bb99ad0-daac-4410-8047-551a3e27e887",
   "metadata": {},
   "outputs": [
    {
     "data": {
      "text/plain": [
       "2"
      ]
     },
     "execution_count": 16,
     "metadata": {},
     "output_type": "execute_result"
    }
   ],
   "source": [
    "10//5"
   ]
  },
  {
   "cell_type": "code",
   "execution_count": 18,
   "id": "cb99ec5e-03fd-4f12-90d1-7301397aea7f",
   "metadata": {},
   "outputs": [
    {
     "data": {
      "text/plain": [
       "2"
      ]
     },
     "execution_count": 18,
     "metadata": {},
     "output_type": "execute_result"
    }
   ],
   "source": [
    "(10+5)-7-6"
   ]
  },
  {
   "cell_type": "code",
   "execution_count": 20,
   "id": "f0e4e1aa-86f1-4be7-9d9e-693cd19c1211",
   "metadata": {},
   "outputs": [
    {
     "data": {
      "text/plain": [
       "30"
      ]
     },
     "execution_count": 20,
     "metadata": {},
     "output_type": "execute_result"
    }
   ],
   "source": [
    "5+(5*5)"
   ]
  },
  {
   "cell_type": "code",
   "execution_count": 22,
   "id": "7a6676be-a805-4117-9bb3-41437605bc47",
   "metadata": {},
   "outputs": [
    {
     "data": {
      "text/plain": [
       "50"
      ]
     },
     "execution_count": 22,
     "metadata": {},
     "output_type": "execute_result"
    }
   ],
   "source": [
    "(5+5)*5"
   ]
  },
  {
   "cell_type": "code",
   "execution_count": 24,
   "id": "e74dbd79-741c-4d56-aa06-4d6271f49cac",
   "metadata": {},
   "outputs": [
    {
     "ename": "TypeError",
     "evalue": "can only concatenate str (not \"int\") to str",
     "output_type": "error",
     "traceback": [
      "\u001b[1;31m---------------------------------------------------------------------------\u001b[0m",
      "\u001b[1;31mTypeError\u001b[0m                                 Traceback (most recent call last)",
      "Cell \u001b[1;32mIn[24], line 1\u001b[0m\n\u001b[1;32m----> 1\u001b[0m _ \u001b[38;5;241m+\u001b[39m \u001b[38;5;241m3\u001b[39m\n",
      "\u001b[1;31mTypeError\u001b[0m: can only concatenate str (not \"int\") to str"
     ]
    }
   ],
   "source": [
    "_ + 3"
   ]
  },
  {
   "cell_type": "code",
   "execution_count": 26,
   "id": "980b6ac5-9188-4159-8670-639465266922",
   "metadata": {},
   "outputs": [
    {
     "data": {
      "text/plain": [
       "'3.12.7 | packaged by Anaconda, Inc. | (main, Oct  4 2024, 13:17:27) [MSC v.1929 64 bit (AMD64)]'"
      ]
     },
     "execution_count": 26,
     "metadata": {},
     "output_type": "execute_result"
    }
   ],
   "source": [
    "import sys\n",
    "sys.version"
   ]
  },
  {
   "cell_type": "code",
   "execution_count": 34,
   "id": "14458b11-74bb-47c8-8f8a-e9fa101e7854",
   "metadata": {},
   "outputs": [
    {
     "data": {
      "text/plain": [
       "10"
      ]
     },
     "execution_count": 34,
     "metadata": {},
     "output_type": "execute_result"
    }
   ],
   "source": [
    "1 + 1\n",
    "2 + 3\n",
    "4 + 6\n",
    "# it will only give recent(last)value as an output"
   ]
  },
  {
   "cell_type": "code",
   "execution_count": 32,
   "id": "f0ec8307-a7ce-4457-a137-398e1c46917c",
   "metadata": {},
   "outputs": [
    {
     "name": "stdout",
     "output_type": "stream",
     "text": [
      "2\n",
      "5\n",
      "10\n"
     ]
    }
   ],
   "source": [
    "print(1 + 1)\n",
    "print(2 + 3)\n",
    "print(4 + 6)"
   ]
  },
  {
   "cell_type": "code",
   "execution_count": 40,
   "id": "f7c08d05-b7c3-4af1-b340-fd9626a8efb5",
   "metadata": {},
   "outputs": [
    {
     "name": "stdout",
     "output_type": "stream",
     "text": [
      "30\n"
     ]
    }
   ],
   "source": [
    "#work on veriables\n",
    "a =10\n",
    "b =20\n",
    "c = a+b\n",
    "print(c)"
   ]
  },
  {
   "cell_type": "code",
   "execution_count": 42,
   "id": "fdc6a415-da54-47d0-b511-00473ed9efa8",
   "metadata": {},
   "outputs": [
    {
     "name": "stdout",
     "output_type": "stream",
     "text": [
      "10\n",
      "20\n",
      "30\n"
     ]
    }
   ],
   "source": [
    "print(a)\n",
    "print(b)\n",
    "print(c)"
   ]
  },
  {
   "cell_type": "code",
   "execution_count": 44,
   "id": "d3e38564-77ba-4a11-b236-facb5181eee5",
   "metadata": {},
   "outputs": [
    {
     "name": "stdout",
     "output_type": "stream",
     "text": [
      "10\n",
      "20 10\n",
      "python\n",
      "python 10 20\n"
     ]
    }
   ],
   "source": [
    " print(10)\n",
    "print(20,10)\n",
    "print('python')\n",
    "print('python',10,20)\n",
    "\n",
    "#print()= Function\n",
    "#10,20,python= arguments\n",
    "#'python'= sring argument\n",
    "#10,20 = Int arguments"
   ]
  },
  {
   "cell_type": "code",
   "execution_count": 48,
   "id": "6b08142c-23a7-4719-a865-65a0e86661ef",
   "metadata": {},
   "outputs": [
    {
     "name": "stdout",
     "output_type": "stream",
     "text": [
      "addition of 10 and 20 is= 30\n"
     ]
    }
   ],
   "source": [
    "#print funtion with sring\n",
    "num1=10\n",
    "num2=20\n",
    "add=num1+num2\n",
    "print('addition of',num1 ,'and', num2, 'is=', add)"
   ]
  },
  {
   "cell_type": "code",
   "execution_count": 44,
   "id": "147b251d-4518-4ab6-973a-7b7498261402",
   "metadata": {},
   "outputs": [
    {
     "data": {
      "text/plain": [
       "['False',\n",
       " 'None',\n",
       " 'True',\n",
       " 'and',\n",
       " 'as',\n",
       " 'assert',\n",
       " 'async',\n",
       " 'await',\n",
       " 'break',\n",
       " 'class',\n",
       " 'continue',\n",
       " 'def',\n",
       " 'del',\n",
       " 'elif',\n",
       " 'else',\n",
       " 'except',\n",
       " 'finally',\n",
       " 'for',\n",
       " 'from',\n",
       " 'global',\n",
       " 'if',\n",
       " 'import',\n",
       " 'in',\n",
       " 'is',\n",
       " 'lambda',\n",
       " 'nonlocal',\n",
       " 'not',\n",
       " 'or',\n",
       " 'pass',\n",
       " 'raise',\n",
       " 'return',\n",
       " 'try',\n",
       " 'while',\n",
       " 'with',\n",
       " 'yield']"
      ]
     },
     "execution_count": 44,
     "metadata": {},
     "output_type": "execute_result"
    }
   ],
   "source": [
    "import keyword\n",
    "keyword.kwlist"
   ]
  },
  {
   "cell_type": "code",
   "execution_count": 46,
   "id": "76b5daac-983c-40fa-9efc-76bd5db5df97",
   "metadata": {},
   "outputs": [
    {
     "data": {
      "text/plain": [
       "35"
      ]
     },
     "execution_count": 46,
     "metadata": {},
     "output_type": "execute_result"
    }
   ],
   "source": [
    "len(keyword.kwlist)"
   ]
  },
  {
   "cell_type": "code",
   "execution_count": null,
   "id": "72cb2694-b848-46d3-ae93-489d85772075",
   "metadata": {},
   "outputs": [],
   "source": []
  },
  {
   "cell_type": "markdown",
   "id": "d4892adf-864d-482b-bda1-d2b09137d9e2",
   "metadata": {},
   "source": [
    "# 22nd oct\n",
    "# python variable concept = python identidier concept \n"
   ]
  },
  {
   "cell_type": "code",
   "execution_count": 53,
   "id": "55a27175-9f68-45df-86ae-e6624fd7f053",
   "metadata": {},
   "outputs": [
    {
     "data": {
      "text/plain": [
       "15"
      ]
     },
     "execution_count": 53,
     "metadata": {},
     "output_type": "execute_result"
    }
   ],
   "source": [
    "NIT = 15\n",
    "NIT"
   ]
  },
  {
   "cell_type": "code",
   "execution_count": null,
   "id": "26c34057-d79f-4224-9899-1a40f93d483a",
   "metadata": {},
   "outputs": [],
   "source": [
    "#rules for variables\n",
    "#1. Variables are case sensitive\n",
    "#2. variables newer starts with digits.\n",
    "#3. No special characters are not alowed in variables except _. (ex.!,@#$%?>< are not allowed)\n",
    "#4. "
   ]
  },
  {
   "cell_type": "code",
   "execution_count": 55,
   "id": "1a43b734-e8c4-4355-964f-a2693fe84e69",
   "metadata": {},
   "outputs": [
    {
     "data": {
      "text/plain": [
       "5"
      ]
     },
     "execution_count": 55,
     "metadata": {},
     "output_type": "execute_result"
    }
   ],
   "source": [
    "dev_=5\n",
    "dev_"
   ]
  },
  {
   "cell_type": "code",
   "execution_count": 57,
   "id": "7600e7d2-960d-451c-8d51-0eeeac668d85",
   "metadata": {},
   "outputs": [
    {
     "data": {
      "text/plain": [
       "6"
      ]
     },
     "execution_count": 57,
     "metadata": {},
     "output_type": "execute_result"
    }
   ],
   "source": [
    "_dev=6\n",
    "_dev"
   ]
  },
  {
   "cell_type": "code",
   "execution_count": 59,
   "id": "8479b322-cdc1-4d45-9e4c-f351545c4b6b",
   "metadata": {},
   "outputs": [
    {
     "name": "stdout",
     "output_type": "stream",
     "text": [
      "5 and 6\n"
     ]
    }
   ],
   "source": [
    "print(dev_,'and', _dev)"
   ]
  },
  {
   "cell_type": "code",
   "execution_count": null,
   "id": "4a2e3c5d-6d66-4510-81cb-d3dd2637ed4f",
   "metadata": {},
   "outputs": [],
   "source": []
  },
  {
   "cell_type": "code",
   "execution_count": 61,
   "id": "0ef11c1f-0fde-4b54-ad51-804eeb6b8db9",
   "metadata": {},
   "outputs": [
    {
     "name": "stdout",
     "output_type": "stream",
     "text": [
      "10\n",
      "20\n",
      "30\n",
      "40\n"
     ]
    }
   ],
   "source": [
    "# if you need to define more than one veriables use this method.\n",
    " \n",
    "a,b,c,d = 10,20,30,40\n",
    "\n",
    "print(a)\n",
    "print(b)\n",
    "print(c)\n",
    "print(d)"
   ]
  },
  {
   "cell_type": "code",
   "execution_count": null,
   "id": "fb29eddb-3904-4580-81bb-d5a4601bb7fc",
   "metadata": {},
   "outputs": [],
   "source": []
  },
  {
   "cell_type": "code",
   "execution_count": null,
   "id": "545af5e2-d71e-46a4-a643-9b57294a5b39",
   "metadata": {},
   "outputs": [],
   "source": []
  },
  {
   "cell_type": "markdown",
   "id": "0ed27d06-24ef-4d1f-85d8-3e77f0883b06",
   "metadata": {},
   "source": [
    "Python Data Types\n",
    "-\n"
   ]
  },
  {
   "cell_type": "markdown",
   "id": "a7e58d66-efc6-41f3-b252-024239e6f97d",
   "metadata": {},
   "source": [
    "1. Int  --- Value without desimal (1,2,3...)\n",
    "2. Float -- Value with desimal   (1.1,1.2,1.3...)\n",
    "3. Bool (Boolean) -- True or False\n",
    "4. String  -- alphabets or words ('python' , \"python\")\n",
    "5. Complex  -- (a+bj)"
   ]
  },
  {
   "cell_type": "code",
   "execution_count": 70,
   "id": "164b53f8-66d8-44e0-9166-4bc8db51126e",
   "metadata": {},
   "outputs": [
    {
     "data": {
      "text/plain": [
       "5"
      ]
     },
     "execution_count": 70,
     "metadata": {},
     "output_type": "execute_result"
    }
   ],
   "source": [
    "i=5\n",
    "i"
   ]
  },
  {
   "cell_type": "code",
   "execution_count": 72,
   "id": "a0fb08b6-9d24-4159-9ee2-a8e195074fc8",
   "metadata": {},
   "outputs": [
    {
     "data": {
      "text/plain": [
       "int"
      ]
     },
     "execution_count": 72,
     "metadata": {},
     "output_type": "execute_result"
    }
   ],
   "source": [
    "#to find data type of ant variable use below function\n",
    "type(i)"
   ]
  },
  {
   "cell_type": "markdown",
   "id": "fc22acd2-aa41-4396-811d-81a34af7db83",
   "metadata": {},
   "source": [
    "23rd oct\n",
    "-"
   ]
  },
  {
   "cell_type": "markdown",
   "id": "a1245c61-5b1b-4386-b660-595ca42456a2",
   "metadata": {},
   "source": [
    "For float data type only e is allowed\n",
    "e0 = 1\n",
    "e1 = 10\n",
    "e2 = 100\n",
    "e3 = 1000\n"
   ]
  },
  {
   "cell_type": "code",
   "execution_count": 3,
   "id": "29e39b56-e6dc-4109-958f-9133076f3d37",
   "metadata": {},
   "outputs": [
    {
     "data": {
      "text/plain": [
       "1"
      ]
     },
     "execution_count": 3,
     "metadata": {},
     "output_type": "execute_result"
    }
   ],
   "source": [
    "f=1\n",
    "f"
   ]
  },
  {
   "cell_type": "code",
   "execution_count": 7,
   "id": "e499580f-6df9-49ed-801d-901198eca338",
   "metadata": {},
   "outputs": [
    {
     "data": {
      "text/plain": [
       "1.0"
      ]
     },
     "execution_count": 7,
     "metadata": {},
     "output_type": "execute_result"
    }
   ],
   "source": [
    "f = 1e0\n",
    "f"
   ]
  },
  {
   "cell_type": "code",
   "execution_count": 9,
   "id": "e75ef924-d486-4e79-adda-468efe4356b1",
   "metadata": {},
   "outputs": [
    {
     "data": {
      "text/plain": [
       "100.0"
      ]
     },
     "execution_count": 9,
     "metadata": {},
     "output_type": "execute_result"
    }
   ],
   "source": [
    "f =1e2\n",
    "f"
   ]
  },
  {
   "cell_type": "code",
   "execution_count": 11,
   "id": "25ee7d10-c6eb-4086-90f3-28e8ef79c70b",
   "metadata": {},
   "outputs": [
    {
     "data": {
      "text/plain": [
       "1000.0"
      ]
     },
     "execution_count": 11,
     "metadata": {},
     "output_type": "execute_result"
    }
   ],
   "source": [
    "f=1e3\n",
    "f"
   ]
  },
  {
   "cell_type": "markdown",
   "id": "723a1335-0703-42cf-b53d-76b0a1c71162",
   "metadata": {},
   "source": [
    "Bool or Boolean data type\n",
    "1. while defining bool variable first latter is always Capital."
   ]
  },
  {
   "cell_type": "code",
   "execution_count": 15,
   "id": "6cfe956b-00af-4f30-a3b4-9e9a95f5b6a8",
   "metadata": {},
   "outputs": [
    {
     "ename": "NameError",
     "evalue": "name 'true' is not defined",
     "output_type": "error",
     "traceback": [
      "\u001b[1;31m---------------------------------------------------------------------------\u001b[0m",
      "\u001b[1;31mNameError\u001b[0m                                 Traceback (most recent call last)",
      "Cell \u001b[1;32mIn[15], line 1\u001b[0m\n\u001b[1;32m----> 1\u001b[0m b \u001b[38;5;241m=\u001b[39m true\n\u001b[0;32m      2\u001b[0m b\n",
      "\u001b[1;31mNameError\u001b[0m: name 'true' is not defined"
     ]
    }
   ],
   "source": [
    "b = true\n",
    "b"
   ]
  },
  {
   "cell_type": "code",
   "execution_count": 13,
   "id": "3896110f-1269-462b-98c7-b106190352db",
   "metadata": {},
   "outputs": [
    {
     "data": {
      "text/plain": [
       "True"
      ]
     },
     "execution_count": 13,
     "metadata": {},
     "output_type": "execute_result"
    }
   ],
   "source": [
    "b = True\n",
    "b"
   ]
  },
  {
   "cell_type": "code",
   "execution_count": 17,
   "id": "1a017cdf-22a9-4bed-9e38-a9834ce40f7c",
   "metadata": {},
   "outputs": [
    {
     "ename": "NameError",
     "evalue": "name 'false' is not defined",
     "output_type": "error",
     "traceback": [
      "\u001b[1;31m---------------------------------------------------------------------------\u001b[0m",
      "\u001b[1;31mNameError\u001b[0m                                 Traceback (most recent call last)",
      "Cell \u001b[1;32mIn[17], line 1\u001b[0m\n\u001b[1;32m----> 1\u001b[0m b1 \u001b[38;5;241m=\u001b[39m false\n\u001b[0;32m      2\u001b[0m b1\n",
      "\u001b[1;31mNameError\u001b[0m: name 'false' is not defined"
     ]
    }
   ],
   "source": [
    "b1 = false\n",
    "b1"
   ]
  },
  {
   "cell_type": "code",
   "execution_count": 19,
   "id": "0deff458-d25c-4c51-9480-1bfb172cc95e",
   "metadata": {},
   "outputs": [
    {
     "data": {
      "text/plain": [
       "False"
      ]
     },
     "execution_count": 19,
     "metadata": {},
     "output_type": "execute_result"
    }
   ],
   "source": [
    "b1 = False\n",
    "b1"
   ]
  },
  {
   "cell_type": "markdown",
   "id": "dcbe97e7-9ce8-4f4b-9fe6-17591a2cc1dc",
   "metadata": {},
   "source": [
    "In internal memory True is refferwd to 1 and false is reffered to 0."
   ]
  },
  {
   "cell_type": "code",
   "execution_count": 23,
   "id": "a857841e-3249-4306-afe7-c7d951f1cdc5",
   "metadata": {},
   "outputs": [
    {
     "data": {
      "text/plain": [
       "1"
      ]
     },
     "execution_count": 23,
     "metadata": {},
     "output_type": "execute_result"
    }
   ],
   "source": [
    "True + False #1+0\n"
   ]
  },
  {
   "cell_type": "code",
   "execution_count": 25,
   "id": "f2ea2a52-dabf-49b8-916b-3267a3f5a9cd",
   "metadata": {},
   "outputs": [
    {
     "data": {
      "text/plain": [
       "1"
      ]
     },
     "execution_count": 25,
     "metadata": {},
     "output_type": "execute_result"
    }
   ],
   "source": [
    "True - False #1-0"
   ]
  },
  {
   "cell_type": "code",
   "execution_count": 27,
   "id": "21859a60-c19c-4605-9cb6-68a5e4d58f19",
   "metadata": {},
   "outputs": [
    {
     "data": {
      "text/plain": [
       "-1"
      ]
     },
     "execution_count": 27,
     "metadata": {},
     "output_type": "execute_result"
    }
   ],
   "source": [
    "False - True #0-1"
   ]
  },
  {
   "cell_type": "code",
   "execution_count": 29,
   "id": "d5928264-1f18-4d80-8ae1-dce0e3f508bd",
   "metadata": {},
   "outputs": [
    {
     "data": {
      "text/plain": [
       "3"
      ]
     },
     "execution_count": 29,
     "metadata": {},
     "output_type": "execute_result"
    }
   ],
   "source": [
    "True + True + True - False  #1+1+1-0"
   ]
  },
  {
   "cell_type": "code",
   "execution_count": 31,
   "id": "fcad95c1-6178-430c-a175-4ec0529d8dcf",
   "metadata": {},
   "outputs": [
    {
     "data": {
      "text/plain": [
       "0"
      ]
     },
     "execution_count": 31,
     "metadata": {},
     "output_type": "execute_result"
    }
   ],
   "source": [
    "False * True"
   ]
  },
  {
   "cell_type": "code",
   "execution_count": 33,
   "id": "de5b486a-8af1-411f-870d-210635f1951a",
   "metadata": {},
   "outputs": [
    {
     "data": {
      "text/plain": [
       "0.0"
      ]
     },
     "execution_count": 33,
     "metadata": {},
     "output_type": "execute_result"
    }
   ],
   "source": [
    "False/True"
   ]
  },
  {
   "cell_type": "code",
   "execution_count": 35,
   "id": "d0548157-65cd-4a2c-8aca-dcbc38501b42",
   "metadata": {},
   "outputs": [
    {
     "ename": "ZeroDivisionError",
     "evalue": "division by zero",
     "output_type": "error",
     "traceback": [
      "\u001b[1;31m---------------------------------------------------------------------------\u001b[0m",
      "\u001b[1;31mZeroDivisionError\u001b[0m                         Traceback (most recent call last)",
      "Cell \u001b[1;32mIn[35], line 1\u001b[0m\n\u001b[1;32m----> 1\u001b[0m \u001b[38;5;28;01mTrue\u001b[39;00m\u001b[38;5;241m/\u001b[39m\u001b[38;5;28;01mFalse\u001b[39;00m\n",
      "\u001b[1;31mZeroDivisionError\u001b[0m: division by zero"
     ]
    }
   ],
   "source": [
    "True/False # 1/0 = Infinity"
   ]
  },
  {
   "cell_type": "markdown",
   "id": "f5a43cfe-0543-49dc-87c3-6b309401c9e8",
   "metadata": {},
   "source": [
    "Types of error\n",
    "\n",
    "Compile time error(sytactical error or syntax error)  --->occurs when error happens in syntax by the usser while writing the code.\n",
    "run time error                                        --->occurs by system whilw compiling the code.\n",
    "zero division error                                   --->occurs when we devide value with zero.\n"
   ]
  },
  {
   "cell_type": "markdown",
   "id": "f6a42661-2b3a-4dd0-b28e-9ff82c862d71",
   "metadata": {},
   "source": [
    "# Complex data types"
   ]
  },
  {
   "cell_type": "markdown",
   "id": "de2df7ee-d435-4c82-9ccb-ba8ea987441f",
   "metadata": {},
   "source": [
    "a + bj\n",
    "a = Real part\n",
    "b = imaginary part\n",
    "j = Squre root of -1"
   ]
  },
  {
   "cell_type": "code",
   "execution_count": 48,
   "id": "94cf0609-c173-4ac4-8323-e21e8971e953",
   "metadata": {},
   "outputs": [
    {
     "data": {
      "text/plain": [
       "(1+20j)"
      ]
     },
     "execution_count": 48,
     "metadata": {},
     "output_type": "execute_result"
    }
   ],
   "source": [
    "c = 1 +20j\n",
    "c"
   ]
  },
  {
   "cell_type": "code",
   "execution_count": 40,
   "id": "19babcd6-a3e8-4860-8378-190f8fa5155a",
   "metadata": {},
   "outputs": [
    {
     "data": {
      "text/plain": [
       "complex"
      ]
     },
     "execution_count": 40,
     "metadata": {},
     "output_type": "execute_result"
    }
   ],
   "source": [
    "type(c)"
   ]
  },
  {
   "cell_type": "code",
   "execution_count": 50,
   "id": "44aecf83-b9e3-428a-9bbb-5df8b00352f0",
   "metadata": {},
   "outputs": [
    {
     "data": {
      "text/plain": [
       "1.0"
      ]
     },
     "execution_count": 50,
     "metadata": {},
     "output_type": "execute_result"
    }
   ],
   "source": [
    "c.real #gives real part"
   ]
  },
  {
   "cell_type": "code",
   "execution_count": 52,
   "id": "5cbb067f-a824-4557-b8cb-5f4051c2c2ea",
   "metadata": {},
   "outputs": [
    {
     "data": {
      "text/plain": [
       "20.0"
      ]
     },
     "execution_count": 52,
     "metadata": {},
     "output_type": "execute_result"
    }
   ],
   "source": [
    "c.imag #gives imaginary part"
   ]
  },
  {
   "cell_type": "code",
   "execution_count": 54,
   "id": "2536071b-bb6a-47e8-9657-f6e48d09af6d",
   "metadata": {},
   "outputs": [
    {
     "name": "stdout",
     "output_type": "stream",
     "text": [
      "(40+60j)\n",
      "(-20-20j)\n"
     ]
    }
   ],
   "source": [
    "c1 = 10 + 20J\n",
    "c2 = 30 + 40J\n",
    "\n",
    "\n",
    "print (c1 + c2)\n",
    "print (c1- c2)"
   ]
  },
  {
   "cell_type": "markdown",
   "id": "c94592e8-436e-403f-b581-449e18dee331",
   "metadata": {},
   "source": [
    "#24 OCT\n",
    "-"
   ]
  },
  {
   "cell_type": "code",
   "execution_count": 6,
   "id": "1533a577-6565-4f54-8c82-c4cc0351abcc",
   "metadata": {},
   "outputs": [
    {
     "data": {
      "text/plain": [
       "'nit'"
      ]
     },
     "execution_count": 6,
     "metadata": {},
     "output_type": "execute_result"
    }
   ],
   "source": [
    "s = 'nit'\n",
    "s"
   ]
  },
  {
   "cell_type": "code",
   "execution_count": 8,
   "id": "7644976d-ee1e-4bfe-8725-a62b6315bf02",
   "metadata": {},
   "outputs": [
    {
     "data": {
      "text/plain": [
       "str"
      ]
     },
     "execution_count": 8,
     "metadata": {},
     "output_type": "execute_result"
    }
   ],
   "source": [
    "type(s)"
   ]
  },
  {
   "cell_type": "code",
   "execution_count": 16,
   "id": "98e11030-207b-414b-8321-673014df549a",
   "metadata": {},
   "outputs": [
    {
     "data": {
      "text/plain": [
       "'hellow python'"
      ]
     },
     "execution_count": 16,
     "metadata": {},
     "output_type": "execute_result"
    }
   ],
   "source": [
    "s1 = 'hellow python' # can also use \"\n",
    "s1"
   ]
  },
  {
   "cell_type": "code",
   "execution_count": 12,
   "id": "6320b695-1ba7-472f-8f23-cb6142e3ae84",
   "metadata": {},
   "outputs": [
    {
     "data": {
      "text/plain": [
       "'nit\\n        hellow python'"
      ]
     },
     "execution_count": 12,
     "metadata": {},
     "output_type": "execute_result"
    }
   ],
   "source": [
    "s2 = '''nit\n",
    "        hellow python'''   # triple cote is used for multi row string\n",
    "s2"
   ]
  },
  {
   "cell_type": "markdown",
   "id": "a7cdb0ac-abe3-4eeb-b9aa-0f1e2c4eb7a1",
   "metadata": {},
   "source": [
    "#String Indexing\n",
    "-"
   ]
  },
  {
   "cell_type": "markdown",
   "id": "1434ff7d-9521-460b-b8e5-62b5492f9c49",
   "metadata": {},
   "source": [
    "* index stars from 0,1,2,3....\n",
    "1. Forward indexing  ----- from left to right(Start from o)\n",
    "2. backward indexing ----- from left to right(Start from -1)\n",
    "3. use [] for indexing perpose."
   ]
  },
  {
   "cell_type": "code",
   "execution_count": 19,
   "id": "1580c863-f197-41a5-a9ef-62381ce3bf7c",
   "metadata": {},
   "outputs": [
    {
     "data": {
      "text/plain": [
       "'hellow python'"
      ]
     },
     "execution_count": 19,
     "metadata": {},
     "output_type": "execute_result"
    }
   ],
   "source": [
    "s1"
   ]
  },
  {
   "cell_type": "code",
   "execution_count": 23,
   "id": "5680720a-6e02-4581-a4b1-205c2eb24c73",
   "metadata": {},
   "outputs": [
    {
     "data": {
      "text/plain": [
       "'t'"
      ]
     },
     "execution_count": 23,
     "metadata": {},
     "output_type": "execute_result"
    }
   ],
   "source": [
    "s1[-4]  ----# always use [index number] for finding element on that index number"
   ]
  },
  {
   "cell_type": "code",
   "execution_count": 25,
   "id": "21a7451f-61b2-4cc5-91ca-b336f7fbb5a9",
   "metadata": {},
   "outputs": [
    {
     "data": {
      "text/plain": [
       "'h'"
      ]
     },
     "execution_count": 25,
     "metadata": {},
     "output_type": "execute_result"
    }
   ],
   "source": [
    "s1[0]"
   ]
  },
  {
   "cell_type": "code",
   "execution_count": 27,
   "id": "317077a6-1db7-40b1-9fec-9509401af29f",
   "metadata": {},
   "outputs": [
    {
     "data": {
      "text/plain": [
       "'o'"
      ]
     },
     "execution_count": 27,
     "metadata": {},
     "output_type": "execute_result"
    }
   ],
   "source": [
    "s1[4]"
   ]
  },
  {
   "cell_type": "code",
   "execution_count": 31,
   "id": "37ae4fa2-1a38-44e8-909f-30d97ad764af",
   "metadata": {},
   "outputs": [
    {
     "data": {
      "text/plain": [
       "' '"
      ]
     },
     "execution_count": 31,
     "metadata": {},
     "output_type": "execute_result"
    }
   ],
   "source": [
    "s1[6]  ----# we can alsp print space in this."
   ]
  },
  {
   "cell_type": "code",
   "execution_count": 33,
   "id": "ce629295-39cf-4100-b14e-296ab5832345",
   "metadata": {},
   "outputs": [
    {
     "name": "stdout",
     "output_type": "stream",
     "text": [
      "i\n",
      "t\n",
      "n\n"
     ]
    }
   ],
   "source": [
    "print(s[1])\n",
    "print(s[2])\n",
    "print(s[0])"
   ]
  },
  {
   "cell_type": "markdown",
   "id": "6a49e268-c7db-40fa-a478-f648b4e0a051",
   "metadata": {},
   "source": []
  },
  {
   "cell_type": "markdown",
   "id": "358f29d8-e6e3-44f7-aae5-4d106296896c",
   "metadata": {},
   "source": [
    "#String slicing\n",
    "-"
   ]
  },
  {
   "cell_type": "markdown",
   "id": "5ef0c0be-67d4-4699-a537-41d602042f7c",
   "metadata": {},
   "source": [
    "1. slicing is denoted by :"
   ]
  },
  {
   "cell_type": "code",
   "execution_count": 39,
   "id": "cc959fd3-9968-4ef5-997c-797446c3d9d3",
   "metadata": {},
   "outputs": [
    {
     "data": {
      "text/plain": [
       "'hellow python'"
      ]
     },
     "execution_count": 39,
     "metadata": {},
     "output_type": "execute_result"
    }
   ],
   "source": [
    "s1"
   ]
  },
  {
   "cell_type": "code",
   "execution_count": 41,
   "id": "282b7b72-e3d8-4bdf-90b5-27c82fb921fb",
   "metadata": {},
   "outputs": [
    {
     "data": {
      "text/plain": [
       "'hellow python'"
      ]
     },
     "execution_count": 41,
     "metadata": {},
     "output_type": "execute_result"
    }
   ],
   "source": [
    "s1[:]  --- # empty slice prints whole string"
   ]
  },
  {
   "cell_type": "code",
   "execution_count": 43,
   "id": "2f02257d-2e57-4286-b6ec-2885bc39ebf4",
   "metadata": {},
   "outputs": [
    {
     "data": {
      "text/plain": [
       "'llow '"
      ]
     },
     "execution_count": 43,
     "metadata": {},
     "output_type": "execute_result"
    }
   ],
   "source": [
    "s1[2:7]  -----# here 2= starting index of sring s1, 7= Ending index of string s1 .\n",
    "# Here Last element we get = ending index - 1 "
   ]
  },
  {
   "cell_type": "code",
   "execution_count": 49,
   "id": "1824a08e-9c72-4270-b654-ec119f60965a",
   "metadata": {},
   "outputs": [
    {
     "data": {
      "text/plain": [
       "'dataanalyst'"
      ]
     },
     "execution_count": 49,
     "metadata": {},
     "output_type": "execute_result"
    }
   ],
   "source": [
    "s3 = 'dataanalyst'\n",
    "\n",
    "s3"
   ]
  },
  {
   "cell_type": "code",
   "execution_count": 51,
   "id": "ed95a0d8-6bed-4a11-8a75-c7c3dcd61127",
   "metadata": {},
   "outputs": [
    {
     "data": {
      "text/plain": [
       "'dataanalys'"
      ]
     },
     "execution_count": 51,
     "metadata": {},
     "output_type": "execute_result"
    }
   ],
   "source": [
    "s3[0:10]"
   ]
  },
  {
   "cell_type": "code",
   "execution_count": 53,
   "id": "488144f1-d3a5-436b-8dd9-e8e48b00ebb9",
   "metadata": {},
   "outputs": [
    {
     "ename": "IndexError",
     "evalue": "string index out of range",
     "output_type": "error",
     "traceback": [
      "\u001b[1;31m---------------------------------------------------------------------------\u001b[0m",
      "\u001b[1;31mIndexError\u001b[0m                                Traceback (most recent call last)",
      "Cell \u001b[1;32mIn[53], line 1\u001b[0m\n\u001b[1;32m----> 1\u001b[0m s3[\u001b[38;5;241m12\u001b[39m]\n",
      "\u001b[1;31mIndexError\u001b[0m: string index out of range"
     ]
    }
   ],
   "source": [
    "s3[12]"
   ]
  },
  {
   "cell_type": "code",
   "execution_count": 55,
   "id": "291ad826-0385-4759-8074-50987f90738f",
   "metadata": {},
   "outputs": [
    {
     "data": {
      "text/plain": [
       "'st'"
      ]
     },
     "execution_count": 55,
     "metadata": {},
     "output_type": "execute_result"
    }
   ],
   "source": [
    "s3[9:12]   # we can give end index as much we want it will still give remaining string from start index to end index"
   ]
  },
  {
   "cell_type": "code",
   "execution_count": 63,
   "id": "5581ecff-e5ea-402c-a542-9ac99b4e9a80",
   "metadata": {},
   "outputs": [
    {
     "data": {
      "text/plain": [
       "'dtaayt'"
      ]
     },
     "execution_count": 63,
     "metadata": {},
     "output_type": "execute_result"
    }
   ],
   "source": [
    "s3[0:11:2]  #here 2 is step count"
   ]
  },
  {
   "cell_type": "markdown",
   "id": "e20bde27-91fc-43b2-bc9c-2edd51dc0e6f",
   "metadata": {},
   "source": [
    "* In above example\n",
    "0 = d  ---Start index(d)\n",
    "1 = a\n",
    "2 = t --- Step index of 2\n",
    "3 = a  \n",
    "4 = a  --- Step index of 2\n",
    "5 = n  \n",
    "6 = a  --- Step index of 2\n",
    "7 = l  \n",
    "8 = y  --- Step index of 2\n",
    "9 = s \n",
    "10 = t  --- step inex of 2\n",
    "  \n",
    "Hence final result 'dtaayt'."
   ]
  },
  {
   "cell_type": "code",
   "execution_count": 65,
   "id": "aa4203b8-97c0-4fb8-acea-84fd9f372b87",
   "metadata": {},
   "outputs": [
    {
     "data": {
      "text/plain": [
       "'daas'"
      ]
     },
     "execution_count": 65,
     "metadata": {},
     "output_type": "execute_result"
    }
   ],
   "source": [
    "s3[0:11:3]"
   ]
  },
  {
   "cell_type": "code",
   "execution_count": 67,
   "id": "992b9fd4-5f0a-46fd-a5c0-13319389576f",
   "metadata": {},
   "outputs": [
    {
     "data": {
      "text/plain": [
       "'taanaly'"
      ]
     },
     "execution_count": 67,
     "metadata": {},
     "output_type": "execute_result"
    }
   ],
   "source": [
    "s3[2:-2]"
   ]
  },
  {
   "cell_type": "code",
   "execution_count": 77,
   "id": "c8819a60-651c-43b3-aa8e-ca907a33f5ef",
   "metadata": {},
   "outputs": [
    {
     "name": "stdout",
     "output_type": "stream",
     "text": [
      "d\n",
      "a\n",
      "t\n",
      "a\n",
      "a\n",
      "n\n",
      "a\n",
      "l\n",
      "y\n",
      "s\n",
      "t\n"
     ]
    }
   ],
   "source": [
    "for i in s3:\n",
    "    print(i)"
   ]
  },
  {
   "cell_type": "markdown",
   "id": "69473331-438f-484b-a3ac-a3a21ba6dffd",
   "metadata": {},
   "source": [
    "#Python typecasting | type convirsion\n",
    "-"
   ]
  },
  {
   "cell_type": "markdown",
   "id": "95cd9802-47a0-47a7-b3c8-f0f4e28205f0",
   "metadata": {},
   "source": [
    "We can covert data types in onother data type bt this method"
   ]
  },
  {
   "cell_type": "code",
   "execution_count": 80,
   "id": "3d1ca89a-ab45-4640-bff8-ca0482e93230",
   "metadata": {},
   "outputs": [
    {
     "data": {
      "text/plain": [
       "2"
      ]
     },
     "execution_count": 80,
     "metadata": {},
     "output_type": "execute_result"
    }
   ],
   "source": [
    "int(2.3) # float to int is posible"
   ]
  },
  {
   "cell_type": "code",
   "execution_count": 84,
   "id": "91f6bc93-bc50-4d9f-85fe-105b1d7315ca",
   "metadata": {},
   "outputs": [
    {
     "data": {
      "text/plain": [
       "1"
      ]
     },
     "execution_count": 84,
     "metadata": {},
     "output_type": "execute_result"
    }
   ],
   "source": [
    "int(True) #bool to int is posible"
   ]
  },
  {
   "cell_type": "code",
   "execution_count": 98,
   "id": "c7fccbd8-ed51-4097-8414-2dbb897370e9",
   "metadata": {},
   "outputs": [
    {
     "data": {
      "text/plain": [
       "10"
      ]
     },
     "execution_count": 98,
     "metadata": {},
     "output_type": "execute_result"
    }
   ],
   "source": [
    "int('10') #string to int is posible only if it is number"
   ]
  },
  {
   "cell_type": "code",
   "execution_count": 102,
   "id": "2485812c-becb-445e-892d-2500140635ef",
   "metadata": {},
   "outputs": [
    {
     "ename": "ValueError",
     "evalue": "invalid literal for int() with base 10: 'ten'",
     "output_type": "error",
     "traceback": [
      "\u001b[1;31m---------------------------------------------------------------------------\u001b[0m",
      "\u001b[1;31mValueError\u001b[0m                                Traceback (most recent call last)",
      "Cell \u001b[1;32mIn[102], line 1\u001b[0m\n\u001b[1;32m----> 1\u001b[0m \u001b[38;5;28mint\u001b[39m(\u001b[38;5;124m'\u001b[39m\u001b[38;5;124mten\u001b[39m\u001b[38;5;124m'\u001b[39m)\n",
      "\u001b[1;31mValueError\u001b[0m: invalid literal for int() with base 10: 'ten'"
     ]
    }
   ],
   "source": [
    "int('ten') # string to int is not posible if the srting is not number"
   ]
  },
  {
   "cell_type": "code",
   "execution_count": 86,
   "id": "c30293d0-1035-4e8e-8c3c-420a5a25b739",
   "metadata": {},
   "outputs": [
    {
     "ename": "TypeError",
     "evalue": "int() argument must be a string, a bytes-like object or a real number, not 'complex'",
     "output_type": "error",
     "traceback": [
      "\u001b[1;31m---------------------------------------------------------------------------\u001b[0m",
      "\u001b[1;31mTypeError\u001b[0m                                 Traceback (most recent call last)",
      "Cell \u001b[1;32mIn[86], line 1\u001b[0m\n\u001b[1;32m----> 1\u001b[0m \u001b[38;5;28mint\u001b[39m(\u001b[38;5;241m1\u001b[39m\u001b[38;5;241m+\u001b[39m\u001b[38;5;241m2\u001b[39mj)\n",
      "\u001b[1;31mTypeError\u001b[0m: int() argument must be a string, a bytes-like object or a real number, not 'complex'"
     ]
    }
   ],
   "source": [
    "int(1+2j) #complex to int is not posible"
   ]
  },
  {
   "cell_type": "markdown",
   "id": "994e0d5c-99c0-404e-bc9e-353d0c80b85f",
   "metadata": {},
   "source": [
    "And wise versa\n",
    "-"
   ]
  },
  {
   "cell_type": "code",
   "execution_count": 88,
   "id": "0519a9af-b6f3-4ea4-8ce5-a1b1faaf6940",
   "metadata": {},
   "outputs": [
    {
     "data": {
      "text/plain": [
       "3.0"
      ]
     },
     "execution_count": 88,
     "metadata": {},
     "output_type": "execute_result"
    }
   ],
   "source": [
    "float(3)"
   ]
  },
  {
   "cell_type": "code",
   "execution_count": 94,
   "id": "2d4fd39b-7ff6-4ab6-87f2-b61734ea848f",
   "metadata": {},
   "outputs": [
    {
     "data": {
      "text/plain": [
       "True"
      ]
     },
     "execution_count": 94,
     "metadata": {},
     "output_type": "execute_result"
    }
   ],
   "source": [
    "bool(2)"
   ]
  },
  {
   "cell_type": "code",
   "execution_count": 96,
   "id": "ecdebb46-e385-4fab-b7df-99c9467b8e88",
   "metadata": {},
   "outputs": [
    {
     "data": {
      "text/plain": [
       "(3+0j)"
      ]
     },
     "execution_count": 96,
     "metadata": {},
     "output_type": "execute_result"
    }
   ],
   "source": [
    "complex(3) # complex to int is posible"
   ]
  },
  {
   "cell_type": "code",
   "execution_count": 111,
   "id": "b6b4c028-c076-4438-86af-15bf19f29ba4",
   "metadata": {},
   "outputs": [],
   "source": [
    "import numpy as np  # important\n",
    "a = np.nan"
   ]
  },
  {
   "cell_type": "code",
   "execution_count": 113,
   "id": "62f37e6d-f6b9-472e-b4fd-1897d0470c40",
   "metadata": {},
   "outputs": [
    {
     "data": {
      "text/plain": [
       "float"
      ]
     },
     "execution_count": 113,
     "metadata": {},
     "output_type": "execute_result"
    }
   ],
   "source": [
    "type(a)"
   ]
  },
  {
   "cell_type": "markdown",
   "id": "4221df95-1a5e-4e72-80cd-d054399059aa",
   "metadata": {},
   "source": [
    "25 OCT\n",
    "-"
   ]
  },
  {
   "cell_type": "code",
   "execution_count": 5,
   "id": "247c014b-c246-4c0c-9074-0d89c4b394af",
   "metadata": {},
   "outputs": [
    {
     "data": {
      "text/plain": [
       "(10+0j)"
      ]
     },
     "execution_count": 5,
     "metadata": {},
     "output_type": "execute_result"
    }
   ],
   "source": [
    "complex(10)  #gives only real part"
   ]
  },
  {
   "cell_type": "code",
   "execution_count": 7,
   "id": "04f9cfcd-0fa4-40a2-88e8-0440e2711b88",
   "metadata": {},
   "outputs": [
    {
     "data": {
      "text/plain": [
       "(2.3+10j)"
      ]
     },
     "execution_count": 7,
     "metadata": {},
     "output_type": "execute_result"
    }
   ],
   "source": [
    "complex(2.3,10)  #can nly pass two arguments to complex (1st is real part, second is imaginary part)\n"
   ]
  },
  {
   "cell_type": "code",
   "execution_count": 9,
   "id": "03894c52-7e4e-468e-8266-e2cfee7598cf",
   "metadata": {},
   "outputs": [
    {
     "data": {
      "text/plain": [
       "True"
      ]
     },
     "execution_count": 9,
     "metadata": {},
     "output_type": "execute_result"
    }
   ],
   "source": [
    "bool('true') # we can convert all the data type to boolean "
   ]
  },
  {
   "cell_type": "code",
   "execution_count": 11,
   "id": "c7266a9d-eee2-4515-811c-b4c3f7f00b14",
   "metadata": {},
   "outputs": [
    {
     "data": {
      "text/plain": [
       "True"
      ]
     },
     "execution_count": 11,
     "metadata": {},
     "output_type": "execute_result"
    }
   ],
   "source": [
    "bool('false')"
   ]
  },
  {
   "cell_type": "code",
   "execution_count": 13,
   "id": "05a8051d-dd76-4b45-b98b-94c16f439dc5",
   "metadata": {},
   "outputs": [
    {
     "name": "stdout",
     "output_type": "stream",
     "text": [
      "2\n",
      "2.3\n",
      "Dev\n",
      "(2+3j)\n"
     ]
    }
   ],
   "source": [
    "print(str(2))          #We can conver all the data type to sting\n",
    "print(str(2.3))\n",
    "print(str('Dev'))\n",
    "print(str(2+3j))"
   ]
  },
  {
   "cell_type": "code",
   "execution_count": 15,
   "id": "80ec6a60-8fb7-4e3b-b6e7-8833ea2c395d",
   "metadata": {},
   "outputs": [
    {
     "data": {
      "text/plain": [
       "'HELLOPYTHON'"
      ]
     },
     "execution_count": 15,
     "metadata": {},
     "output_type": "execute_result"
    }
   ],
   "source": [
    "index = 'HELLOPYTHON'\n",
    "index"
   ]
  },
  {
   "cell_type": "code",
   "execution_count": 17,
   "id": "55024213-24be-4439-bb06-2b9cc40c5297",
   "metadata": {},
   "outputs": [
    {
     "data": {
      "text/plain": [
       "'HELLOPYTHON'"
      ]
     },
     "execution_count": 17,
     "metadata": {},
     "output_type": "execute_result"
    }
   ],
   "source": [
    "index[:]"
   ]
  },
  {
   "cell_type": "code",
   "execution_count": 19,
   "id": "e0966084-6d3b-4dad-aea2-88e41855ee8a",
   "metadata": {},
   "outputs": [
    {
     "data": {
      "text/plain": [
       "'NOHTYPOLLEH'"
      ]
     },
     "execution_count": 19,
     "metadata": {},
     "output_type": "execute_result"
    }
   ],
   "source": [
    "index[::-1]  #use to reverse the sring"
   ]
  },
  {
   "cell_type": "code",
   "execution_count": 21,
   "id": "16f3a8d1-0978-4a22-885a-227496a2b926",
   "metadata": {},
   "outputs": [
    {
     "data": {
      "text/plain": [
       "'HELLOPYTHON'"
      ]
     },
     "execution_count": 21,
     "metadata": {},
     "output_type": "execute_result"
    }
   ],
   "source": [
    "index"
   ]
  },
  {
   "cell_type": "code",
   "execution_count": 23,
   "id": "5e2d4acf-19c1-4c95-b365-b374f07986d8",
   "metadata": {},
   "outputs": [
    {
     "data": {
      "text/plain": [
       "'NHYOLH'"
      ]
     },
     "execution_count": 23,
     "metadata": {},
     "output_type": "execute_result"
    }
   ],
   "source": [
    "index[::-2]"
   ]
  },
  {
   "cell_type": "code",
   "execution_count": 25,
   "id": "020677ec-2759-4527-be4b-6fdafcf14617",
   "metadata": {},
   "outputs": [
    {
     "data": {
      "text/plain": [
       "'HELLOPYTHON'"
      ]
     },
     "execution_count": 25,
     "metadata": {},
     "output_type": "execute_result"
    }
   ],
   "source": [
    "index"
   ]
  },
  {
   "cell_type": "code",
   "execution_count": 27,
   "id": "62382a22-34d4-4983-bbaf-c3a6cf713415",
   "metadata": {},
   "outputs": [
    {
     "data": {
      "text/plain": [
       "'NYL'"
      ]
     },
     "execution_count": 27,
     "metadata": {},
     "output_type": "execute_result"
    }
   ],
   "source": [
    "index[::-4]"
   ]
  },
  {
   "cell_type": "code",
   "execution_count": 29,
   "id": "98e35e99-e0e1-4667-908b-70a1821d644e",
   "metadata": {},
   "outputs": [
    {
     "data": {
      "text/plain": [
       "'HELLOPYTHON'"
      ]
     },
     "execution_count": 29,
     "metadata": {},
     "output_type": "execute_result"
    }
   ],
   "source": [
    "index"
   ]
  },
  {
   "cell_type": "code",
   "execution_count": 31,
   "id": "52a3b18d-7b74-4f4c-85e5-db4db02f0942",
   "metadata": {},
   "outputs": [
    {
     "data": {
      "text/plain": [
       "'OPYTHON'"
      ]
     },
     "execution_count": 31,
     "metadata": {},
     "output_type": "execute_result"
    }
   ],
   "source": [
    "index[4:]"
   ]
  },
  {
   "cell_type": "code",
   "execution_count": 33,
   "id": "f2ac7acf-e1eb-4fce-bdda-8684b50b9499",
   "metadata": {},
   "outputs": [
    {
     "data": {
      "text/plain": [
       "'LL'"
      ]
     },
     "execution_count": 33,
     "metadata": {},
     "output_type": "execute_result"
    }
   ],
   "source": [
    "index[2:4]"
   ]
  },
  {
   "cell_type": "code",
   "execution_count": 35,
   "id": "86727367-8dbf-48a6-b16f-b9de76cf48d7",
   "metadata": {},
   "outputs": [
    {
     "data": {
      "text/plain": [
       "'HELLOPY'"
      ]
     },
     "execution_count": 35,
     "metadata": {},
     "output_type": "execute_result"
    }
   ],
   "source": [
    "index[:-4]"
   ]
  },
  {
   "cell_type": "code",
   "execution_count": 37,
   "id": "cb93c24a-f471-4eac-9c0a-969316485e7b",
   "metadata": {},
   "outputs": [
    {
     "data": {
      "text/plain": [
       "'EOT'"
      ]
     },
     "execution_count": 37,
     "metadata": {},
     "output_type": "execute_result"
    }
   ],
   "source": [
    "index[1:10:3]"
   ]
  },
  {
   "cell_type": "code",
   "execution_count": 58,
   "id": "d944a5ae-7e74-47d5-b9a8-1f5500228abb",
   "metadata": {},
   "outputs": [
    {
     "data": {
      "image/png": "[encoded data removed]",
      "text/plain": [
       "<Figure size 640x480 with 1 Axes>"
      ]
     },
     "metadata": {},
     "output_type": "display_data"
    }
   ],
   "source": [
    "## import matplotlib.pyplot as plt\n",
    "plt.plot([1,4,9,16])\n",
    "plt.ylabel('Numbers')\n",
    "plt.show()"
   ]
  },
  {
   "cell_type": "code",
   "execution_count": null,
   "id": "d2dce7ce-8e58-4c64-8c23-01f373de1d2b",
   "metadata": {},
   "outputs": [],
   "source": []
  },
  {
   "cell_type": "code",
   "execution_count": null,
   "id": "7dc1f6d6-d29d-4636-8341-93e6c3619d99",
   "metadata": {},
   "outputs": [],
   "source": []
  },
  {
   "cell_type": "code",
   "execution_count": null,
   "id": "b3fff770-19e9-4a4b-a1f3-8fd721a6c104",
   "metadata": {},
   "outputs": [],
   "source": []
  },
  {
   "cell_type": "markdown",
   "id": "f579b808-58ad-4797-a3f0-1b1a5d602bd3",
   "metadata": {},
   "source": [
    "26th - Data Structures\n",
    "-"
   ]
  },
  {
   "cell_type": "markdown",
   "id": "1dc4d3da-3236-4efb-88de-d3e373a1baac",
   "metadata": {},
   "source": [
    "#List\n",
    "-"
   ]
  },
  {
   "cell_type": "markdown",
   "id": "3e1cffff-15f4-46a2-94fb-18d403c06324",
   "metadata": {},
   "source": [
    "* List is always defined with [ ].\n",
    "* Duplicates are allowed in list."
   ]
  },
  {
   "cell_type": "code",
   "execution_count": 65,
   "id": "03aecf7c-b5f2-4544-9210-06af20afbb86",
   "metadata": {},
   "outputs": [
    {
     "data": {
      "text/plain": [
       "[]"
      ]
     },
     "execution_count": 65,
     "metadata": {},
     "output_type": "execute_result"
    }
   ],
   "source": [
    "l = []\n",
    "l"
   ]
  },
  {
   "cell_type": "code",
   "execution_count": 67,
   "id": "aed9cdf4-99d5-4ed0-88cc-c9d621443847",
   "metadata": {},
   "outputs": [
    {
     "data": {
      "text/plain": [
       "list"
      ]
     },
     "execution_count": 67,
     "metadata": {},
     "output_type": "execute_result"
    }
   ],
   "source": [
    "type(l)"
   ]
  },
  {
   "cell_type": "markdown",
   "id": "818dca97-9544-48a5-9043-93e20e7b8ab7",
   "metadata": {},
   "source": [
    "#Functions for list\n",
    "\n",
    "1.Append function\n",
    "* Used to add element to the end of list\n",
    "* We can append float,int,boolean,complex,string data type variables.\n",
    "* only one argument is allowed at a time.\n"
   ]
  },
  {
   "cell_type": "markdown",
   "id": "77195fb4-b337-4bd7-aef4-363e0b5ffeb1",
   "metadata": {},
   "source": [
    "*Syntax\n",
    "\n",
    "l.append(1+2j)\n",
    "l.append(True)\n",
    "l.append('nit')\n",
    "l.append(10)\n",
    "l.append(20)\n",
    "l.append(30)\n"
   ]
  },
  {
   "cell_type": "code",
   "execution_count": 109,
   "id": "c1e78723-0756-4984-aa0f-47b6e9ab2e1b",
   "metadata": {},
   "outputs": [],
   "source": [
    "l.append(2.3)\n"
   ]
  },
  {
   "cell_type": "code",
   "execution_count": 111,
   "id": "d3dc1402-098b-4ebb-9842-74cb9fd7564a",
   "metadata": {},
   "outputs": [
    {
     "data": {
      "text/plain": [
       "[(1+2j), True, 'nit', 10, 20, 30, 2.3]"
      ]
     },
     "execution_count": 111,
     "metadata": {},
     "output_type": "execute_result"
    }
   ],
   "source": [
    "l"
   ]
  },
  {
   "cell_type": "code",
   "execution_count": 76,
   "id": "1d2aec8b-00c7-4cf7-81c0-49c3c40b6961",
   "metadata": {},
   "outputs": [
    {
     "ename": "TypeError",
     "evalue": "list.append() takes exactly one argument (3 given)",
     "output_type": "error",
     "traceback": [
      "\u001b[1;31m---------------------------------------------------------------------------\u001b[0m",
      "\u001b[1;31mTypeError\u001b[0m                                 Traceback (most recent call last)",
      "Cell \u001b[1;32mIn[76], line 1\u001b[0m\n\u001b[1;32m----> 1\u001b[0m l\u001b[38;5;241m.\u001b[39mappend(\u001b[38;5;241m40\u001b[39m,\u001b[38;5;241m50\u001b[39m,\u001b[38;5;241m60\u001b[39m)\n\u001b[0;32m      2\u001b[0m l\n",
      "\u001b[1;31mTypeError\u001b[0m: list.append() takes exactly one argument (3 given)"
     ]
    }
   ],
   "source": [
    "l.append(40,50,60)  #will only add one element to list at a time.\n",
    "l"
   ]
  },
  {
   "cell_type": "code",
   "execution_count": 113,
   "id": "389a582c-f480-42a3-a267-17dc18ddf660",
   "metadata": {},
   "outputs": [
    {
     "data": {
      "text/plain": [
       "[(1+2j), True, 'nit', 10, 20, 30, 2.3]"
      ]
     },
     "execution_count": 113,
     "metadata": {},
     "output_type": "execute_result"
    }
   ],
   "source": [
    "l"
   ]
  },
  {
   "cell_type": "code",
   "execution_count": 115,
   "id": "15e0b0a9-be54-488a-bb59-bfb47ca01229",
   "metadata": {},
   "outputs": [
    {
     "data": {
      "text/plain": [
       "7"
      ]
     },
     "execution_count": 115,
     "metadata": {},
     "output_type": "execute_result"
    }
   ],
   "source": [
    "len(l)  #used to find the lenth"
   ]
  },
  {
   "cell_type": "code",
   "execution_count": 125,
   "id": "475a9595-79b3-485c-bf56-f97986a50fa0",
   "metadata": {},
   "outputs": [
    {
     "data": {
      "text/plain": [
       "[(1+2j), True, 'nit', 20, 30, 2.3, 10, 10, 10]"
      ]
     },
     "execution_count": 125,
     "metadata": {},
     "output_type": "execute_result"
    }
   ],
   "source": [
    "l.append(10)\n",
    "l.append(10)\n",
    "\n",
    "l"
   ]
  },
  {
   "cell_type": "code",
   "execution_count": null,
   "id": "7980aa7b-5869-42d8-9827-67e21fd00937",
   "metadata": {},
   "outputs": [],
   "source": []
  },
  {
   "cell_type": "markdown",
   "id": "ce7d6e06-e745-409d-b710-cae2d896e0f0",
   "metadata": {},
   "source": [
    "2.Remove Function\n",
    "\n",
    "* use to remove the value from list"
   ]
  },
  {
   "cell_type": "code",
   "execution_count": 129,
   "id": "d64ee9e4-35ea-42ce-b5f7-12bbac205e4c",
   "metadata": {},
   "outputs": [
    {
     "data": {
      "text/plain": [
       "[(1+2j), True, 'nit', 20, 30, 2.3, 10, 10]"
      ]
     },
     "execution_count": 129,
     "metadata": {},
     "output_type": "execute_result"
    }
   ],
   "source": [
    "l.remove(10) #removes 1st 10 which is appeared from left\n",
    "l"
   ]
  },
  {
   "cell_type": "code",
   "execution_count": null,
   "id": "aa0cca67-5466-44c1-8e52-0fb037c9af4f",
   "metadata": {},
   "outputs": [],
   "source": []
  },
  {
   "cell_type": "markdown",
   "id": "97d62fe9-4afb-43a5-8154-7ad031986851",
   "metadata": {},
   "source": [
    "2.Copy Function\n",
    "\n",
    "* use to create the list which is exact copy of other list withsa me elements."
   ]
  },
  {
   "cell_type": "code",
   "execution_count": 141,
   "id": "f8dd301e-e82f-4dd3-a3b6-01406bc2977b",
   "metadata": {},
   "outputs": [
    {
     "data": {
      "text/plain": [
       "[(1+2j), True, 'nit', 20, 30, 2.3, 10, 10]"
      ]
     },
     "execution_count": 141,
     "metadata": {},
     "output_type": "execute_result"
    }
   ],
   "source": [
    "l1 = l.copy()\n",
    "l1"
   ]
  },
  {
   "cell_type": "code",
   "execution_count": 146,
   "id": "b9868af0-c7d3-4c4f-9499-58c3c237e27e",
   "metadata": {},
   "outputs": [
    {
     "data": {
      "text/plain": [
       "True"
      ]
     },
     "execution_count": 146,
     "metadata": {},
     "output_type": "execute_result"
    }
   ],
   "source": [
    "l == l1"
   ]
  },
  {
   "cell_type": "code",
   "execution_count": null,
   "id": "57810e2b-b567-41b5-ad70-0b7da5b3bc09",
   "metadata": {},
   "outputs": [],
   "source": []
  },
  {
   "cell_type": "markdown",
   "id": "6293442f-a28c-44c7-9fe6-743fdca936fe",
   "metadata": {},
   "source": [
    "3.Count Function\n",
    "\n",
    "* use to count the number of times mentioned element repeats in the list"
   ]
  },
  {
   "cell_type": "code",
   "execution_count": 151,
   "id": "e856f671-f564-483c-9a9f-acb8c04a1530",
   "metadata": {},
   "outputs": [
    {
     "data": {
      "text/plain": [
       "2"
      ]
     },
     "execution_count": 151,
     "metadata": {},
     "output_type": "execute_result"
    }
   ],
   "source": [
    "l.count(10)"
   ]
  },
  {
   "cell_type": "code",
   "execution_count": 154,
   "id": "f8f52fab-8ba9-4270-b5c2-89914dbc996b",
   "metadata": {},
   "outputs": [
    {
     "data": {
      "text/plain": [
       "1"
      ]
     },
     "execution_count": 154,
     "metadata": {},
     "output_type": "execute_result"
    }
   ],
   "source": [
    "l.count(20)"
   ]
  },
  {
   "cell_type": "code",
   "execution_count": 173,
   "id": "fa0bce2c-6158-45d9-8618-4c496d221fb3",
   "metadata": {},
   "outputs": [
    {
     "data": {
      "text/plain": [
       "[(1+2j), True, 'nit', 20, 30, 2.3, 10, 10]"
      ]
     },
     "execution_count": 173,
     "metadata": {},
     "output_type": "execute_result"
    }
   ],
   "source": [
    "l[:]  #indexing is allowed in list"
   ]
  },
  {
   "cell_type": "code",
   "execution_count": 165,
   "id": "4f8d375b-ea68-4bb8-b15e-33372435e522",
   "metadata": {},
   "outputs": [
    {
     "data": {
      "text/plain": [
       "30"
      ]
     },
     "execution_count": 165,
     "metadata": {},
     "output_type": "execute_result"
    }
   ],
   "source": [
    "l[4]"
   ]
  },
  {
   "cell_type": "code",
   "execution_count": null,
   "id": "8c23983f-8fbe-4fa4-acec-64d1ea97d4b7",
   "metadata": {},
   "outputs": [],
   "source": []
  },
  {
   "cell_type": "code",
   "execution_count": null,
   "id": "50267ce2-c510-45aa-b039-29bb7a548b79",
   "metadata": {},
   "outputs": [],
   "source": []
  },
  {
   "cell_type": "markdown",
   "id": "5b7be3c4-dbd5-4e7a-a685-a5a49d863634",
   "metadata": {},
   "source": [
    "28th Oct - List data structure\n",
    "-"
   ]
  },
  {
   "cell_type": "code",
   "execution_count": 171,
   "id": "58faf4b8-e0fd-4699-ae55-75ceb80bce90",
   "metadata": {},
   "outputs": [
    {
     "data": {
      "text/plain": [
       "[(1+2j), True, 'nit', 20, 30, 2.3, 10, 10]"
      ]
     },
     "execution_count": 171,
     "metadata": {},
     "output_type": "execute_result"
    }
   ],
   "source": [
    "l\n"
   ]
  },
  {
   "cell_type": "code",
   "execution_count": 175,
   "id": "ee645df0-0db8-4cbe-9273-70195e2eb13f",
   "metadata": {},
   "outputs": [
    {
     "data": {
      "text/plain": [
       "[(1+2j), True, 'nit', 20, 30, 2.3, 10, 10]"
      ]
     },
     "execution_count": 175,
     "metadata": {},
     "output_type": "execute_result"
    }
   ],
   "source": [
    "l1"
   ]
  },
  {
   "cell_type": "code",
   "execution_count": 177,
   "id": "6c8cbed5-dc41-47c9-9498-d0a16136c578",
   "metadata": {},
   "outputs": [],
   "source": [
    "l2 = []"
   ]
  },
  {
   "cell_type": "code",
   "execution_count": 179,
   "id": "ff4418f6-3f3e-4c8a-903f-0e06ebbc7955",
   "metadata": {},
   "outputs": [],
   "source": [
    "l2.append(1)\n",
    "l2.append(2.3)\n",
    "l2.append(True)\n",
    "l2.append(1+2j)\n",
    "l2.append('nit')"
   ]
  },
  {
   "cell_type": "code",
   "execution_count": 181,
   "id": "90e4ac5a-576d-40cb-9981-2305aa88fd9c",
   "metadata": {},
   "outputs": [
    {
     "data": {
      "text/plain": [
       "[1, 2.3, True, (1+2j), 'nit']"
      ]
     },
     "execution_count": 181,
     "metadata": {},
     "output_type": "execute_result"
    }
   ],
   "source": [
    "l2"
   ]
  },
  {
   "cell_type": "code",
   "execution_count": 183,
   "id": "5d66c9ec-20ed-48b0-9b97-02ca82960661",
   "metadata": {},
   "outputs": [],
   "source": [
    "l3 = l2.copy()"
   ]
  },
  {
   "cell_type": "code",
   "execution_count": 185,
   "id": "4efb75b9-fb71-4785-b012-eeb5a3987ac7",
   "metadata": {},
   "outputs": [
    {
     "data": {
      "text/plain": [
       "[1, 2.3, True, (1+2j), 'nit']"
      ]
     },
     "execution_count": 185,
     "metadata": {},
     "output_type": "execute_result"
    }
   ],
   "source": [
    "l3"
   ]
  },
  {
   "cell_type": "code",
   "execution_count": 187,
   "id": "8fb7914b-23ec-4f53-aea7-090ffc48cb08",
   "metadata": {},
   "outputs": [
    {
     "data": {
      "text/plain": [
       "5"
      ]
     },
     "execution_count": 187,
     "metadata": {},
     "output_type": "execute_result"
    }
   ],
   "source": [
    "len(l3)"
   ]
  },
  {
   "cell_type": "markdown",
   "id": "21016984-a161-43bb-b7df-e3146e0db0c2",
   "metadata": {},
   "source": [
    "4.Clear Function\n",
    "\n",
    "* use to clear the elements from list elements."
   ]
  },
  {
   "cell_type": "code",
   "execution_count": 189,
   "id": "a3538d22-634e-4e28-abe9-7b29f4704e71",
   "metadata": {},
   "outputs": [],
   "source": [
    "l3.clear() "
   ]
  },
  {
   "cell_type": "code",
   "execution_count": 191,
   "id": "980e1dee-53c1-4930-86b7-6bbcc3fc39aa",
   "metadata": {},
   "outputs": [
    {
     "data": {
      "text/plain": [
       "0"
      ]
     },
     "execution_count": 191,
     "metadata": {},
     "output_type": "execute_result"
    }
   ],
   "source": [
    "len(l3)\n"
   ]
  },
  {
   "cell_type": "markdown",
   "id": "957c12f7-c46e-4e02-a29b-f730a810d267",
   "metadata": {},
   "source": [
    "3.Delet Function\n",
    "\n",
    "* use to Delet the list from the memory."
   ]
  },
  {
   "cell_type": "code",
   "execution_count": 197,
   "id": "d9222c26-710e-46ff-8f82-7a50705c78d1",
   "metadata": {},
   "outputs": [],
   "source": [
    "del l3"
   ]
  },
  {
   "cell_type": "code",
   "execution_count": 199,
   "id": "c17116e8-b199-4c70-9257-de8fe32ee07c",
   "metadata": {},
   "outputs": [
    {
     "ename": "NameError",
     "evalue": "name 'l3' is not defined",
     "output_type": "error",
     "traceback": [
      "\u001b[1;31m---------------------------------------------------------------------------\u001b[0m",
      "\u001b[1;31mNameError\u001b[0m                                 Traceback (most recent call last)",
      "Cell \u001b[1;32mIn[199], line 1\u001b[0m\n\u001b[1;32m----> 1\u001b[0m l3\n",
      "\u001b[1;31mNameError\u001b[0m: name 'l3' is not defined"
     ]
    }
   ],
   "source": [
    "l3"
   ]
  },
  {
   "cell_type": "code",
   "execution_count": null,
   "id": "d97c6380-cdd0-41e5-9c22-ed42cf38669a",
   "metadata": {},
   "outputs": [],
   "source": []
  },
  {
   "cell_type": "markdown",
   "id": "6d7790b0-f78f-4a86-8d99-70cbe4b3956e",
   "metadata": {},
   "source": [
    "5.Remove Function\n",
    "\n",
    "use to remove the perticular element from list elements."
   ]
  },
  {
   "cell_type": "code",
   "execution_count": 202,
   "id": "4f1d0d3c-f107-4b3a-a624-430124bd766a",
   "metadata": {},
   "outputs": [
    {
     "data": {
      "text/plain": [
       "[1, 2.3, True, (1+2j), 'nit']"
      ]
     },
     "execution_count": 202,
     "metadata": {},
     "output_type": "execute_result"
    }
   ],
   "source": [
    "l2"
   ]
  },
  {
   "cell_type": "code",
   "execution_count": 208,
   "id": "792de0c6-b943-4612-917e-d3ff659c3aa5",
   "metadata": {},
   "outputs": [
    {
     "ename": "ValueError",
     "evalue": "list.remove(x): x not in list",
     "output_type": "error",
     "traceback": [
      "\u001b[1;31m---------------------------------------------------------------------------\u001b[0m",
      "\u001b[1;31mValueError\u001b[0m                                Traceback (most recent call last)",
      "Cell \u001b[1;32mIn[208], line 1\u001b[0m\n\u001b[1;32m----> 1\u001b[0m l2\u001b[38;5;241m.\u001b[39mremove(\u001b[38;5;241m2.3\u001b[39m)\n",
      "\u001b[1;31mValueError\u001b[0m: list.remove(x): x not in list"
     ]
    }
   ],
   "source": [
    "l2.remove(2.3)"
   ]
  },
  {
   "cell_type": "code",
   "execution_count": 212,
   "id": "7c0f06e5-734f-4a86-af46-ad3d942f6264",
   "metadata": {},
   "outputs": [
    {
     "data": {
      "text/plain": [
       "[1, True, (1+2j), 'nit']"
      ]
     },
     "execution_count": 212,
     "metadata": {},
     "output_type": "execute_result"
    }
   ],
   "source": [
    "l2  #2.3 removed successfuly "
   ]
  },
  {
   "cell_type": "code",
   "execution_count": 214,
   "id": "19199f67-28a7-4f6a-92c4-e245c4641f45",
   "metadata": {},
   "outputs": [
    {
     "ename": "TypeError",
     "evalue": "list.remove() takes exactly one argument (2 given)",
     "output_type": "error",
     "traceback": [
      "\u001b[1;31m---------------------------------------------------------------------------\u001b[0m",
      "\u001b[1;31mTypeError\u001b[0m                                 Traceback (most recent call last)",
      "Cell \u001b[1;32mIn[214], line 1\u001b[0m\n\u001b[1;32m----> 1\u001b[0m l2\u001b[38;5;241m.\u001b[39mremove(\u001b[38;5;241m1\u001b[39m,\u001b[38;5;124m'\u001b[39m\u001b[38;5;124mnit\u001b[39m\u001b[38;5;124m'\u001b[39m)\n",
      "\u001b[1;31mTypeError\u001b[0m: list.remove() takes exactly one argument (2 given)"
     ]
    }
   ],
   "source": [
    "l2.remove(1,'nit')  # only takes one argument"
   ]
  },
  {
   "cell_type": "code",
   "execution_count": 243,
   "id": "fc0bac2a-9451-4521-91ca-f1a2e1ad2966",
   "metadata": {},
   "outputs": [],
   "source": [
    "l3 =[]\n",
    "l3.append(10)"
   ]
  },
  {
   "cell_type": "code",
   "execution_count": 245,
   "id": "98f819ea-59a9-4b9b-9d98-6387615909b3",
   "metadata": {},
   "outputs": [
    {
     "data": {
      "text/plain": [
       "[10]"
      ]
     },
     "execution_count": 245,
     "metadata": {},
     "output_type": "execute_result"
    }
   ],
   "source": [
    "l3"
   ]
  },
  {
   "cell_type": "code",
   "execution_count": 247,
   "id": "76d9484f-a134-465b-a829-78ef5c175762",
   "metadata": {},
   "outputs": [
    {
     "data": {
      "text/plain": [
       "[1, True, (1+2j), 'nit']"
      ]
     },
     "execution_count": 247,
     "metadata": {},
     "output_type": "execute_result"
    }
   ],
   "source": [
    "l2\n"
   ]
  },
  {
   "cell_type": "code",
   "execution_count": null,
   "id": "fc959c2b-dc4a-45d4-9232-6be10dffccf9",
   "metadata": {},
   "outputs": [],
   "source": []
  },
  {
   "cell_type": "markdown",
   "id": "681c198f-a753-4ba7-8b01-3a6dab8c20af",
   "metadata": {},
   "source": [
    "6.Extend Function\n",
    "\n",
    "use to concat(merge) the 2 lists or element of list."
   ]
  },
  {
   "cell_type": "code",
   "execution_count": 249,
   "id": "76315e28-7cb9-486d-b98d-6c5db491c685",
   "metadata": {},
   "outputs": [],
   "source": [
    "l3.extend(l2) #merged the elements of l3 to l2"
   ]
  },
  {
   "cell_type": "code",
   "execution_count": 251,
   "id": "6a9abc34-8475-4841-a9aa-2933526d7532",
   "metadata": {},
   "outputs": [
    {
     "data": {
      "text/plain": [
       "[10, 1, True, (1+2j), 'nit']"
      ]
     },
     "execution_count": 251,
     "metadata": {},
     "output_type": "execute_result"
    }
   ],
   "source": [
    "l3"
   ]
  },
  {
   "cell_type": "code",
   "execution_count": 253,
   "id": "d07c2b45-cae0-449b-a2d9-1f08ccca489c",
   "metadata": {},
   "outputs": [],
   "source": [
    "l3.append(1)"
   ]
  },
  {
   "cell_type": "code",
   "execution_count": 255,
   "id": "e3843418-dd5d-42ce-ba4e-f378ab1f0497",
   "metadata": {},
   "outputs": [
    {
     "data": {
      "text/plain": [
       "[10, 1, True, (1+2j), 'nit', 1]"
      ]
     },
     "execution_count": 255,
     "metadata": {},
     "output_type": "execute_result"
    }
   ],
   "source": [
    "l3"
   ]
  },
  {
   "cell_type": "code",
   "execution_count": null,
   "id": "8857a5fa-4233-440c-b5b2-1a8276203097",
   "metadata": {},
   "outputs": [],
   "source": []
  },
  {
   "cell_type": "code",
   "execution_count": null,
   "id": "32ccc451-f855-4893-9836-ffd684ac4b12",
   "metadata": {},
   "outputs": [],
   "source": []
  },
  {
   "cell_type": "markdown",
   "id": "44db9b0d-3005-4e55-b868-0f7e2753d670",
   "metadata": {},
   "source": [
    "7.index Function\n",
    "\n",
    "use to find out the intex of perticular elemet in list."
   ]
  },
  {
   "cell_type": "code",
   "execution_count": 265,
   "id": "b1b190d4-7959-40cd-83d2-b011aa36a8e6",
   "metadata": {},
   "outputs": [
    {
     "data": {
      "text/plain": [
       "1"
      ]
     },
     "execution_count": 265,
     "metadata": {},
     "output_type": "execute_result"
    }
   ],
   "source": [
    "l3.index(1)"
   ]
  },
  {
   "cell_type": "markdown",
   "id": "9a5d097b-b342-4ac7-a060-dd91619b2022",
   "metadata": {},
   "source": [
    "7.Insert Function\n",
    "\n",
    "Used to insert required element at required position in list."
   ]
  },
  {
   "cell_type": "code",
   "execution_count": 267,
   "id": "1bb08929-8228-4daf-9e33-d50be4384d00",
   "metadata": {},
   "outputs": [
    {
     "data": {
      "text/plain": [
       "[10, 1, True, (1+2j), 'nit', 1]"
      ]
     },
     "execution_count": 267,
     "metadata": {},
     "output_type": "execute_result"
    }
   ],
   "source": [
    "l3"
   ]
  },
  {
   "cell_type": "code",
   "execution_count": 269,
   "id": "e23b4509-da5b-4f6b-aaf4-fa791f16e9f1",
   "metadata": {},
   "outputs": [],
   "source": [
    "l3.insert(5,'technology')\n",
    "\n",
    "#element will be added before the index number which we mention.\n",
    "#here we wanted to add 'technology' on 4th index hence we selected 5 as a index nember. so that it will add it on 4(1 index before index number)."
   ]
  },
  {
   "cell_type": "code",
   "execution_count": 271,
   "id": "9c2bb7c5-95dd-4af8-a4fc-90afd52f60cd",
   "metadata": {},
   "outputs": [
    {
     "data": {
      "text/plain": [
       "[10, 1, True, (1+2j), 'nit', 'technology', 1]"
      ]
     },
     "execution_count": 271,
     "metadata": {},
     "output_type": "execute_result"
    }
   ],
   "source": [
    "l3"
   ]
  },
  {
   "cell_type": "code",
   "execution_count": 273,
   "id": "8e019e8f-de88-4cb5-919f-ae0ca826ec91",
   "metadata": {},
   "outputs": [],
   "source": [
    "l3.insert(2,False)"
   ]
  },
  {
   "cell_type": "code",
   "execution_count": 275,
   "id": "25abda8e-27bd-4693-9321-d61c896ec499",
   "metadata": {},
   "outputs": [
    {
     "data": {
      "text/plain": [
       "[10, 1, False, True, (1+2j), 'nit', 'technology', 1]"
      ]
     },
     "execution_count": 275,
     "metadata": {},
     "output_type": "execute_result"
    }
   ],
   "source": [
    "l3"
   ]
  },
  {
   "cell_type": "code",
   "execution_count": null,
   "id": "4bb23970-c7bc-4cab-aec1-e155eee3a3c7",
   "metadata": {},
   "outputs": [],
   "source": []
  },
  {
   "cell_type": "code",
   "execution_count": null,
   "id": "f32a032d-cfb2-4f20-bcd5-621daa0e9b10",
   "metadata": {},
   "outputs": [],
   "source": []
  },
  {
   "cell_type": "markdown",
   "id": "a94f1775-30f7-427f-86e7-1ee5adb08b7c",
   "metadata": {},
   "source": [
    "7.Pop Function\n",
    "\n",
    "It REMOVES and return the required element from list based on the index value given.\n",
    "\n",
    "* In sorting all elements should be of one data type"
   ]
  },
  {
   "cell_type": "code",
   "execution_count": 279,
   "id": "d0bc56e1-73a0-44a0-b4da-d5e1e910dd58",
   "metadata": {},
   "outputs": [
    {
     "data": {
      "text/plain": [
       "[10, 1, False, True, (1+2j), 'nit', 'technology', 1]"
      ]
     },
     "execution_count": 279,
     "metadata": {},
     "output_type": "execute_result"
    }
   ],
   "source": [
    "l3"
   ]
  },
  {
   "cell_type": "code",
   "execution_count": 281,
   "id": "6f2f34b8-ee5a-4384-bd6e-559be9745e12",
   "metadata": {},
   "outputs": [
    {
     "data": {
      "text/plain": [
       "1"
      ]
     },
     "execution_count": 281,
     "metadata": {},
     "output_type": "execute_result"
    }
   ],
   "source": [
    "l3.pop()  #if we dont give index value, it will bydefault removes the last elemet from the list"
   ]
  },
  {
   "cell_type": "code",
   "execution_count": 283,
   "id": "6dd0a864-8655-47b3-8606-b0d5bce5af6e",
   "metadata": {},
   "outputs": [
    {
     "data": {
      "text/plain": [
       "[10, 1, False, True, (1+2j), 'nit', 'technology']"
      ]
     },
     "execution_count": 283,
     "metadata": {},
     "output_type": "execute_result"
    }
   ],
   "source": [
    "l3"
   ]
  },
  {
   "cell_type": "code",
   "execution_count": 285,
   "id": "ccf25d09-9c50-4e41-8a4c-bb4487670082",
   "metadata": {},
   "outputs": [
    {
     "data": {
      "text/plain": [
       "1"
      ]
     },
     "execution_count": 285,
     "metadata": {},
     "output_type": "execute_result"
    }
   ],
   "source": [
    "l3.pop(1) # it will remove element from 1st index as we given it the index number"
   ]
  },
  {
   "cell_type": "code",
   "execution_count": 287,
   "id": "1912c2e2-5ec5-4533-a439-89b7edc755be",
   "metadata": {},
   "outputs": [
    {
     "data": {
      "text/plain": [
       "[10, False, True, (1+2j), 'nit', 'technology']"
      ]
     },
     "execution_count": 287,
     "metadata": {},
     "output_type": "execute_result"
    }
   ],
   "source": [
    "l3"
   ]
  },
  {
   "cell_type": "code",
   "execution_count": 289,
   "id": "32cac45d-5866-4282-9121-5ef3e01083c2",
   "metadata": {},
   "outputs": [
    {
     "data": {
      "text/plain": [
       "[10, 100, 3, 45, 76, 24]"
      ]
     },
     "execution_count": 289,
     "metadata": {},
     "output_type": "execute_result"
    }
   ],
   "source": [
    "l4 = [10,100,3,45,76,24]\n",
    "l4"
   ]
  },
  {
   "cell_type": "code",
   "execution_count": null,
   "id": "2c557597-134d-40db-8eaf-4ae7ce3a3bda",
   "metadata": {},
   "outputs": [],
   "source": []
  },
  {
   "cell_type": "markdown",
   "id": "6abd13ca-d009-4c1d-bc69-dee79106318b",
   "metadata": {},
   "source": [
    "8.Sort Function\n",
    "\n",
    "it will arange the elemts in the list in assending order."
   ]
  },
  {
   "cell_type": "code",
   "execution_count": 291,
   "id": "9e7fc6c1-5568-4c67-bcec-5014542e2372",
   "metadata": {},
   "outputs": [],
   "source": [
    "l4.sort()"
   ]
  },
  {
   "cell_type": "code",
   "execution_count": 293,
   "id": "25418f1b-197a-40ca-87d0-a26ab9bc62fa",
   "metadata": {},
   "outputs": [
    {
     "data": {
      "text/plain": [
       "[3, 10, 24, 45, 76, 100]"
      ]
     },
     "execution_count": 293,
     "metadata": {},
     "output_type": "execute_result"
    }
   ],
   "source": [
    "l4"
   ]
  },
  {
   "cell_type": "code",
   "execution_count": 299,
   "id": "93cc2ec5-804c-4780-ab4d-788418c26403",
   "metadata": {},
   "outputs": [
    {
     "data": {
      "text/plain": [
       "[100, 76, 45, 24, 10, 3]"
      ]
     },
     "execution_count": 299,
     "metadata": {},
     "output_type": "execute_result"
    }
   ],
   "source": [
    "l4.sort(reverse=True)   #reverse sorting(desending order)\n",
    "l4"
   ]
  },
  {
   "cell_type": "code",
   "execution_count": 304,
   "id": "14689b63-60c6-4b05-898a-dbf6ada4984c",
   "metadata": {},
   "outputs": [
    {
     "data": {
      "text/plain": [
       "['z', 'm', 'c', 'w']"
      ]
     },
     "execution_count": 304,
     "metadata": {},
     "output_type": "execute_result"
    }
   ],
   "source": [
    "l5 = ['z','m','c','w']\n",
    "l5"
   ]
  },
  {
   "cell_type": "code",
   "execution_count": 306,
   "id": "a8426c10-e256-4e1f-9f03-e834f8884fad",
   "metadata": {},
   "outputs": [
    {
     "data": {
      "text/plain": [
       "['c', 'm', 'w', 'z']"
      ]
     },
     "execution_count": 306,
     "metadata": {},
     "output_type": "execute_result"
    }
   ],
   "source": [
    "l5.sort()\n",
    "l5"
   ]
  },
  {
   "cell_type": "code",
   "execution_count": 308,
   "id": "523c4b30-b686-437e-894f-44c8e8926f33",
   "metadata": {},
   "outputs": [
    {
     "data": {
      "text/plain": [
       "[1, 2, 3, 'a', 'z', 'w']"
      ]
     },
     "execution_count": 308,
     "metadata": {},
     "output_type": "execute_result"
    }
   ],
   "source": [
    "l6 = [1,2,3,'a','z','w']\n",
    "l6"
   ]
  },
  {
   "cell_type": "code",
   "execution_count": 312,
   "id": "8d415566-c8a2-4375-b2e6-619876e11652",
   "metadata": {},
   "outputs": [
    {
     "ename": "TypeError",
     "evalue": "'<' not supported between instances of 'str' and 'int'",
     "output_type": "error",
     "traceback": [
      "\u001b[1;31m---------------------------------------------------------------------------\u001b[0m",
      "\u001b[1;31mTypeError\u001b[0m                                 Traceback (most recent call last)",
      "Cell \u001b[1;32mIn[312], line 1\u001b[0m\n\u001b[1;32m----> 1\u001b[0m l6\u001b[38;5;241m.\u001b[39msort()\n",
      "\u001b[1;31mTypeError\u001b[0m: '<' not supported between instances of 'str' and 'int'"
     ]
    }
   ],
   "source": [
    "l6.sort() #In sorting all elements should be of one data type"
   ]
  },
  {
   "cell_type": "code",
   "execution_count": null,
   "id": "bd0c343b-e6f0-466c-bfac-065034ee4b83",
   "metadata": {},
   "outputs": [],
   "source": []
  },
  {
   "cell_type": "markdown",
   "id": "7c429bd3-bccd-438b-a233-20fa56d4f871",
   "metadata": {},
   "source": [
    "9.Reverse Function\n",
    "\n",
    "It will arange the list in reverse order ."
   ]
  },
  {
   "cell_type": "code",
   "execution_count": 316,
   "id": "7827a404-711e-4454-ab0b-6d01f9e98210",
   "metadata": {},
   "outputs": [
    {
     "data": {
      "text/plain": [
       "[1, True, (1+2j), 'nit']"
      ]
     },
     "execution_count": 316,
     "metadata": {},
     "output_type": "execute_result"
    }
   ],
   "source": [
    "l2"
   ]
  },
  {
   "cell_type": "code",
   "execution_count": 318,
   "id": "7efb99c7-daab-4277-b63c-f3a799db5d67",
   "metadata": {},
   "outputs": [
    {
     "data": {
      "text/plain": [
       "['nit', (1+2j), True, 1]"
      ]
     },
     "execution_count": 318,
     "metadata": {},
     "output_type": "execute_result"
    }
   ],
   "source": [
    "l2.reverse()\n",
    "l2"
   ]
  },
  {
   "cell_type": "code",
   "execution_count": 321,
   "id": "72dca70c-4b98-4900-ba2d-9c2fead2830c",
   "metadata": {},
   "outputs": [
    {
     "data": {
      "text/plain": [
       "['nit', (1+2j), True, 1]"
      ]
     },
     "execution_count": 321,
     "metadata": {},
     "output_type": "execute_result"
    }
   ],
   "source": [
    "l2"
   ]
  },
  {
   "cell_type": "code",
   "execution_count": 325,
   "id": "30e9d53e-8d32-4a44-9938-c08559163555",
   "metadata": {},
   "outputs": [
    {
     "name": "stdout",
     "output_type": "stream",
     "text": [
      "n\n",
      "i\n",
      "t\n"
     ]
    }
   ],
   "source": [
    "print(l2[0][0])  #nested Indexing\n",
    "print(l2[0][1])\n",
    "print(l2[0][2])"
   ]
  },
  {
   "cell_type": "markdown",
   "id": "436c385f-1a31-406a-9028-c7910f4b9c43",
   "metadata": {},
   "source": [
    "#29th OCT\n",
    "-"
   ]
  },
  {
   "cell_type": "markdown",
   "id": "ddb5d8bd-6d3c-4427-9841-eb8f3c51bacb",
   "metadata": {},
   "source": [
    "* List is Mutable(changable/hashable"
   ]
  },
  {
   "cell_type": "code",
   "execution_count": 6,
   "id": "23fa71e6-d89f-460c-97e3-65769ef41e8c",
   "metadata": {},
   "outputs": [],
   "source": [
    "l3 = ['technology','nit',False,True,10]"
   ]
  },
  {
   "cell_type": "code",
   "execution_count": 8,
   "id": "174d2978-429c-4a39-b255-7612fb6ba389",
   "metadata": {},
   "outputs": [
    {
     "data": {
      "text/plain": [
       "['technology', 'nit', False, True, 10]"
      ]
     },
     "execution_count": 8,
     "metadata": {},
     "output_type": "execute_result"
    }
   ],
   "source": [
    "l3"
   ]
  },
  {
   "cell_type": "code",
   "execution_count": 10,
   "id": "88dc2840-1cf0-43b1-8ca3-a8d58abeaadc",
   "metadata": {},
   "outputs": [],
   "source": [
    "l3[2] = 0"
   ]
  },
  {
   "cell_type": "code",
   "execution_count": 12,
   "id": "cfd95ef8-8a83-4da4-aa29-06c030adf722",
   "metadata": {},
   "outputs": [
    {
     "data": {
      "text/plain": [
       "['technology', 'nit', 0, True, 10]"
      ]
     },
     "execution_count": 12,
     "metadata": {},
     "output_type": "execute_result"
    }
   ],
   "source": [
    "l3"
   ]
  },
  {
   "cell_type": "code",
   "execution_count": 14,
   "id": "974dfc85-9ce5-4df6-b028-2b434b9cd7fb",
   "metadata": {},
   "outputs": [
    {
     "data": {
      "text/plain": [
       "['mit', 'nit', 0, True, 10]"
      ]
     },
     "execution_count": 14,
     "metadata": {},
     "output_type": "execute_result"
    }
   ],
   "source": [
    "l3[0] = 'mit' \n",
    "l3"
   ]
  },
  {
   "cell_type": "code",
   "execution_count": null,
   "id": "9e04bc21-49ae-4d4b-b1d3-a2230d421e62",
   "metadata": {},
   "outputs": [],
   "source": []
  },
  {
   "cell_type": "code",
   "execution_count": 18,
   "id": "b2adcec8-8d7e-4892-8395-8d59ed8d8573",
   "metadata": {},
   "outputs": [],
   "source": [
    "l6 =['sbi','icici']\n",
    "l7 =['hdfc','kotal']"
   ]
  },
  {
   "cell_type": "code",
   "execution_count": 20,
   "id": "9d9094bd-b52a-4de8-97e7-d00a3b6faf36",
   "metadata": {},
   "outputs": [],
   "source": [
    "family_bank = l6 +l7\n"
   ]
  },
  {
   "cell_type": "code",
   "execution_count": 24,
   "id": "665a03d1-0fc7-479a-9c38-d255d6af0657",
   "metadata": {},
   "outputs": [
    {
     "data": {
      "text/plain": [
       "['sbi', 'icici', 'hdfc', 'kotal']"
      ]
     },
     "execution_count": 24,
     "metadata": {},
     "output_type": "execute_result"
    }
   ],
   "source": [
    "family_bank     # we concat the two lists"
   ]
  },
  {
   "cell_type": "code",
   "execution_count": null,
   "id": "2c3f7083-f398-4d0e-b142-6be3dc629996",
   "metadata": {},
   "outputs": [],
   "source": [
    "l3"
   ]
  },
  {
   "cell_type": "code",
   "execution_count": 32,
   "id": "5ce5a096-9409-41e9-bf95-7eed7ad7bc04",
   "metadata": {},
   "outputs": [
    {
     "name": "stdout",
     "output_type": "stream",
     "text": [
      "(0, 'mit')\n",
      "(1, 'nit')\n",
      "(2, 0)\n",
      "(3, True)\n",
      "(4, 10)\n"
     ]
    }
   ],
   "source": [
    "for i in enumerate (l3):\n",
    "    print(i)"
   ]
  },
  {
   "cell_type": "code",
   "execution_count": 40,
   "id": "814448b5-da55-410a-8859-02993ae397be",
   "metadata": {},
   "outputs": [],
   "source": [
    "l = [20,30,2.3,1+2j,True,'nt',20]"
   ]
  },
  {
   "cell_type": "code",
   "execution_count": 42,
   "id": "734c7ad6-3c02-4488-bf01-a47c94a25cc7",
   "metadata": {},
   "outputs": [
    {
     "data": {
      "text/plain": [
       "[20, 30, 2.3, (1+2j), True, 'nt', 20]"
      ]
     },
     "execution_count": 42,
     "metadata": {},
     "output_type": "execute_result"
    }
   ],
   "source": [
    "l"
   ]
  },
  {
   "cell_type": "code",
   "execution_count": 44,
   "id": "da2fd96a-5227-4c31-8841-fb4c22be0d8b",
   "metadata": {},
   "outputs": [
    {
     "data": {
      "text/plain": [
       "[20, 'nt', True, (1+2j), 2.3, 30, 20]"
      ]
     },
     "execution_count": 44,
     "metadata": {},
     "output_type": "execute_result"
    }
   ],
   "source": [
    "l[::-1]"
   ]
  },
  {
   "cell_type": "code",
   "execution_count": 46,
   "id": "b8b8a0cf-7c26-4a24-858c-45ce7ad44ed3",
   "metadata": {},
   "outputs": [
    {
     "data": {
      "text/plain": [
       "[20, True, 2.3, 20]"
      ]
     },
     "execution_count": 46,
     "metadata": {},
     "output_type": "execute_result"
    }
   ],
   "source": [
    "l[::-2]"
   ]
  },
  {
   "cell_type": "code",
   "execution_count": 48,
   "id": "d08441ff-99bb-4dfb-b703-e1102539b6c2",
   "metadata": {},
   "outputs": [
    {
     "ename": "IndexError",
     "evalue": "list index out of range",
     "output_type": "error",
     "traceback": [
      "\u001b[1;31m---------------------------------------------------------------------------\u001b[0m",
      "\u001b[1;31mIndexError\u001b[0m                                Traceback (most recent call last)",
      "Cell \u001b[1;32mIn[48], line 1\u001b[0m\n\u001b[1;32m----> 1\u001b[0m l[\u001b[38;5;241m17\u001b[39m]\n",
      "\u001b[1;31mIndexError\u001b[0m: list index out of range"
     ]
    }
   ],
   "source": [
    "l[17]"
   ]
  },
  {
   "cell_type": "code",
   "execution_count": 50,
   "id": "389d471a-b66d-470f-b280-c202b9b0415a",
   "metadata": {},
   "outputs": [
    {
     "data": {
      "text/plain": [
       "[2.3, (1+2j), True, 'nt', 20]"
      ]
     },
     "execution_count": 50,
     "metadata": {},
     "output_type": "execute_result"
    }
   ],
   "source": [
    "l[2:]"
   ]
  },
  {
   "cell_type": "code",
   "execution_count": 52,
   "id": "fad83604-a741-4015-ae91-54cc3602e0a8",
   "metadata": {},
   "outputs": [
    {
     "data": {
      "text/plain": [
       "[20, 30, 2.3, (1+2j), True, 'nt', 20]"
      ]
     },
     "execution_count": 52,
     "metadata": {},
     "output_type": "execute_result"
    }
   ],
   "source": [
    "l[:8]"
   ]
  },
  {
   "cell_type": "code",
   "execution_count": 54,
   "id": "bf72d0b3-398a-44ea-8ab3-6b21054f4531",
   "metadata": {},
   "outputs": [
    {
     "data": {
      "text/plain": [
       "[20, (1+2j), 20]"
      ]
     },
     "execution_count": 54,
     "metadata": {},
     "output_type": "execute_result"
    }
   ],
   "source": [
    "l[0:7:3]"
   ]
  },
  {
   "cell_type": "code",
   "execution_count": 56,
   "id": "6a2b1deb-22dd-41a5-ab88-5871b11d8425",
   "metadata": {},
   "outputs": [
    {
     "data": {
      "text/plain": [
       "[20, 2.3, True, 20]"
      ]
     },
     "execution_count": 56,
     "metadata": {},
     "output_type": "execute_result"
    }
   ],
   "source": [
    "l[0:7:2]"
   ]
  },
  {
   "cell_type": "markdown",
   "id": "4f53afdf-aebf-4be5-bf13-7d9a4c2b5199",
   "metadata": {},
   "source": [
    "#Tuple\n",
    "-"
   ]
  },
  {
   "cell_type": "code",
   "execution_count": 59,
   "id": "41b46900-a2d0-454a-b61a-8d9b0ed40d9b",
   "metadata": {},
   "outputs": [
    {
     "data": {
      "text/plain": [
       "()"
      ]
     },
     "execution_count": 59,
     "metadata": {},
     "output_type": "execute_result"
    }
   ],
   "source": [
    "t = tuple()\n",
    "t"
   ]
  },
  {
   "cell_type": "code",
   "execution_count": 61,
   "id": "cf097f22-9cb7-4235-abce-55027e531bd5",
   "metadata": {},
   "outputs": [
    {
     "data": {
      "text/plain": [
       "tuple"
      ]
     },
     "execution_count": 61,
     "metadata": {},
     "output_type": "execute_result"
    }
   ],
   "source": [
    "type(t)"
   ]
  },
  {
   "cell_type": "code",
   "execution_count": 65,
   "id": "f8931cf4-0993-40b5-a3a9-7aa043aaa489",
   "metadata": {},
   "outputs": [
    {
     "data": {
      "text/plain": [
       "(10, 10, 20, 30)"
      ]
     },
     "execution_count": 65,
     "metadata": {},
     "output_type": "execute_result"
    }
   ],
   "source": [
    "t =(10,10,20,30)\n",
    "t"
   ]
  },
  {
   "cell_type": "code",
   "execution_count": 73,
   "id": "6e1b7e7f-d7fc-4e07-a3b0-3780631f9197",
   "metadata": {},
   "outputs": [
    {
     "ename": "TypeError",
     "evalue": "'tuple' object does not support item assignment",
     "output_type": "error",
     "traceback": [
      "\u001b[1;31m---------------------------------------------------------------------------\u001b[0m",
      "\u001b[1;31mTypeError\u001b[0m                                 Traceback (most recent call last)",
      "Cell \u001b[1;32mIn[73], line 1\u001b[0m\n\u001b[1;32m----> 1\u001b[0m t[\u001b[38;5;241m0\u001b[39m] \u001b[38;5;241m=\u001b[39m \u001b[38;5;241m15\u001b[39m \u001b[38;5;66;03m# Tuple is IMMUTABLE\u001b[39;00m\n\u001b[0;32m      2\u001b[0m t\n",
      "\u001b[1;31mTypeError\u001b[0m: 'tuple' object does not support item assignment"
     ]
    }
   ],
   "source": [
    "t[0] = 15 # Tuple is IMMUTABLE\n",
    "t"
   ]
  },
  {
   "cell_type": "code",
   "execution_count": 71,
   "id": "0ac31d14-528a-4e29-9431-36907bd45e76",
   "metadata": {},
   "outputs": [
    {
     "data": {
      "text/plain": [
       "(10, 1.2, 'nit', (1+2j), True)"
      ]
     },
     "execution_count": 71,
     "metadata": {},
     "output_type": "execute_result"
    }
   ],
   "source": [
    "t1 = (10,1.2,'nit',1+2j,True)\n",
    "t1"
   ]
  },
  {
   "cell_type": "code",
   "execution_count": null,
   "id": "2ed8e801-55d3-4d81-8e39-d096d9281102",
   "metadata": {},
   "outputs": [],
   "source": []
  },
  {
   "cell_type": "markdown",
   "id": "ce0af838-3e37-4808-af5d-01cf439712b1",
   "metadata": {},
   "source": [
    "* Only has two functions\n",
    "\n",
    "1 . Count\n",
    "\n",
    "2. index"
   ]
  },
  {
   "cell_type": "code",
   "execution_count": 83,
   "id": "e447b47d-f9b3-4a03-a7cc-73a37187428a",
   "metadata": {},
   "outputs": [
    {
     "data": {
      "text/plain": [
       "2"
      ]
     },
     "execution_count": 83,
     "metadata": {},
     "output_type": "execute_result"
    }
   ],
   "source": [
    "t.count(10)"
   ]
  },
  {
   "cell_type": "code",
   "execution_count": 85,
   "id": "15f7e2b9-4efb-49ac-8225-de0e488377e4",
   "metadata": {},
   "outputs": [
    {
     "data": {
      "text/plain": [
       "0"
      ]
     },
     "execution_count": 85,
     "metadata": {},
     "output_type": "execute_result"
    }
   ],
   "source": [
    "t.index(10)"
   ]
  },
  {
   "cell_type": "code",
   "execution_count": 89,
   "id": "821692b2-3ac1-426e-a894-9a60b339f69c",
   "metadata": {},
   "outputs": [
    {
     "data": {
      "text/plain": [
       "2"
      ]
     },
     "execution_count": 89,
     "metadata": {},
     "output_type": "execute_result"
    }
   ],
   "source": [
    "t1.index('nit')"
   ]
  },
  {
   "cell_type": "code",
   "execution_count": 91,
   "id": "6c06c160-aa0e-421b-b373-4ae5ba81ca25",
   "metadata": {},
   "outputs": [
    {
     "name": "stdout",
     "output_type": "stream",
     "text": [
      "10\n",
      "1.2\n",
      "nit\n",
      "(1+2j)\n",
      "True\n"
     ]
    }
   ],
   "source": [
    "for i in t1:\n",
    "    print(i)"
   ]
  },
  {
   "cell_type": "code",
   "execution_count": 95,
   "id": "87993d08-6732-4b7d-a405-64392270a5aa",
   "metadata": {},
   "outputs": [
    {
     "name": "stdout",
     "output_type": "stream",
     "text": [
      "(0, 10)\n",
      "(1, 1.2)\n",
      "(2, 'nit')\n",
      "(3, (1+2j))\n",
      "(4, True)\n"
     ]
    }
   ],
   "source": [
    "for i in enumerate(t1):\n",
    "    print(i)"
   ]
  },
  {
   "cell_type": "code",
   "execution_count": 99,
   "id": "a0d735d5-b724-458f-a9fe-b4f8d2d98e51",
   "metadata": {},
   "outputs": [
    {
     "data": {
      "text/plain": [
       "(10, 10, 20, 30, 10, 10, 20, 30, 10, 10, 20, 30, 10, 10, 20, 30)"
      ]
     },
     "execution_count": 99,
     "metadata": {},
     "output_type": "execute_result"
    }
   ],
   "source": [
    "t4 = t*4  # will not change the data but repeat the data 4 times as it is immutable\n",
    "t4"
   ]
  },
  {
   "cell_type": "code",
   "execution_count": 101,
   "id": "ae8be120-ebbe-4103-99fe-b9ed110fe5fb",
   "metadata": {},
   "outputs": [
    {
     "data": {
      "text/plain": [
       "(10, 10, 20, 30)"
      ]
     },
     "execution_count": 101,
     "metadata": {},
     "output_type": "execute_result"
    }
   ],
   "source": [
    "t[:]  # indexing works for tuple"
   ]
  },
  {
   "cell_type": "code",
   "execution_count": 107,
   "id": "4146d030-277c-40e7-94f5-0c55de55e787",
   "metadata": {},
   "outputs": [
    {
     "data": {
      "text/plain": [
       "[10, 10, 20, 30]"
      ]
     },
     "execution_count": 107,
     "metadata": {},
     "output_type": "execute_result"
    }
   ],
   "source": [
    "sorted(t)   # to do sorting of tuple sorted is used with this syntax"
   ]
  },
  {
   "cell_type": "code",
   "execution_count": 109,
   "id": "82ede88f-2676-41ed-afb9-905c5414e8c1",
   "metadata": {},
   "outputs": [
    {
     "data": {
      "text/plain": [
       "[30, 20, 10, 10]"
      ]
     },
     "execution_count": 109,
     "metadata": {},
     "output_type": "execute_result"
    }
   ],
   "source": [
    "sorted(t, reverse = True)"
   ]
  },
  {
   "cell_type": "code",
   "execution_count": 111,
   "id": "4b8b534c-52c9-4813-8d29-93740f045a59",
   "metadata": {},
   "outputs": [
    {
     "data": {
      "text/plain": [
       "(10, 10, 20, 30)"
      ]
     },
     "execution_count": 111,
     "metadata": {},
     "output_type": "execute_result"
    }
   ],
   "source": [
    "t"
   ]
  },
  {
   "cell_type": "code",
   "execution_count": null,
   "id": "6fde1767-cba7-46d7-965b-f2cc5da6126f",
   "metadata": {},
   "outputs": [],
   "source": []
  },
  {
   "cell_type": "code",
   "execution_count": null,
   "id": "b460529b-fc05-4e84-bbc1-152b22eb8b50",
   "metadata": {},
   "outputs": [],
   "source": []
  },
  {
   "cell_type": "markdown",
   "id": "c7d34550-d3d8-4264-8a88-29ed9a3cc20a",
   "metadata": {},
   "source": [
    "# 30th OCT\n",
    "- SET"
   ]
  },
  {
   "cell_type": "code",
   "execution_count": 127,
   "id": "0db884e4-70f9-4bc6-aaa9-8658aa505f74",
   "metadata": {},
   "outputs": [
    {
     "data": {
      "text/plain": [
       "{}"
      ]
     },
     "execution_count": 127,
     "metadata": {},
     "output_type": "execute_result"
    }
   ],
   "source": [
    "s ={}  #system bydefault consider variable with {} as dict \n",
    "s"
   ]
  },
  {
   "cell_type": "code",
   "execution_count": 119,
   "id": "c7c6c99d-438b-4a50-92f9-00a1f3769368",
   "metadata": {},
   "outputs": [
    {
     "data": {
      "text/plain": [
       "dict"
      ]
     },
     "execution_count": 119,
     "metadata": {},
     "output_type": "execute_result"
    }
   ],
   "source": [
    "type(s)"
   ]
  },
  {
   "cell_type": "code",
   "execution_count": 125,
   "id": "0fba77cf-a84c-4521-a40b-7460376d2369",
   "metadata": {},
   "outputs": [
    {
     "data": {
      "text/plain": [
       "set"
      ]
     },
     "execution_count": 125,
     "metadata": {},
     "output_type": "execute_result"
    }
   ],
   "source": [
    " s1 = set()  #we need to remind the system that s1 is set\n",
    "type (s1)"
   ]
  },
  {
   "cell_type": "code",
   "execution_count": 139,
   "id": "28f84729-6203-4483-a906-340d819bbc15",
   "metadata": {},
   "outputs": [
    {
     "data": {
      "text/plain": [
       "{3, 15, 20, 47, 100}"
      ]
     },
     "execution_count": 139,
     "metadata": {},
     "output_type": "execute_result"
    }
   ],
   "source": [
    "s1 = {100,20,3,15,47} # always arranges the element in assending order when having element of same data type\n",
    "s1"
   ]
  },
  {
   "cell_type": "code",
   "execution_count": 143,
   "id": "8732ade1-f0c1-42fd-b502-665c6a457bf1",
   "metadata": {},
   "outputs": [
    {
     "data": {
      "text/plain": [
       "{10, 2.3, 5, 6.7, 'a'}"
      ]
     },
     "execution_count": 143,
     "metadata": {},
     "output_type": "execute_result"
    }
   ],
   "source": [
    "s4 = {10,2.3,'a',5,6.7} # does not arranges the element in assending order when having element of diifrent data type\n",
    "s4"
   ]
  },
  {
   "cell_type": "code",
   "execution_count": 141,
   "id": "b6fe0bf5-b9a1-480e-a91c-1e1f448cfedd",
   "metadata": {},
   "outputs": [
    {
     "name": "stdout",
     "output_type": "stream",
     "text": [
      "(0, 2.3)\n",
      "(1, 'a')\n",
      "(2, 5)\n",
      "(3, 6.7)\n",
      "(4, 10)\n"
     ]
    }
   ],
   "source": [
    "for i in  enumerate(s4):\n",
    "    print(i)"
   ]
  },
  {
   "cell_type": "code",
   "execution_count": 145,
   "id": "74a82fcf-0e12-46cc-8729-b6c9e31eb06a",
   "metadata": {},
   "outputs": [
    {
     "data": {
      "text/plain": [
       "{10, 2.3, 5, 6.7, 'a'}"
      ]
     },
     "execution_count": 145,
     "metadata": {},
     "output_type": "execute_result"
    }
   ],
   "source": [
    "s4"
   ]
  },
  {
   "cell_type": "markdown",
   "id": "17c48949-c66e-4a01-801e-9d59696ca293",
   "metadata": {},
   "source": [
    "#Functions for set\n",
    "-"
   ]
  },
  {
   "cell_type": "markdown",
   "id": "9969f780-bdef-4a5c-87a2-a32be6b850c4",
   "metadata": {},
   "source": [
    "1. Add"
   ]
  },
  {
   "cell_type": "code",
   "execution_count": 154,
   "id": "9a9817f1-d5ec-493f-84f5-4c0c947d7c67",
   "metadata": {},
   "outputs": [],
   "source": [
    "s4.add(10)"
   ]
  },
  {
   "cell_type": "code",
   "execution_count": 150,
   "id": "6b72ee9b-a558-42b7-930d-0ccdad04c3de",
   "metadata": {},
   "outputs": [],
   "source": [
    "s4.add(20)\n",
    "s4.add(2.3)"
   ]
  },
  {
   "cell_type": "code",
   "execution_count": 158,
   "id": "d24e3d07-a0ba-418c-b25d-39b538b5bb0e",
   "metadata": {},
   "outputs": [
    {
     "data": {
      "text/plain": [
       "{10, 2.3, 20, 5, 6.7, 'a'}"
      ]
     },
     "execution_count": 158,
     "metadata": {},
     "output_type": "execute_result"
    }
   ],
   "source": [
    "s4  #10 and 2.3 is not added because duplicate is not allowed\n"
   ]
  },
  {
   "cell_type": "code",
   "execution_count": 160,
   "id": "c1efcb95-0388-477f-a54a-7feeaeee25a5",
   "metadata": {},
   "outputs": [
    {
     "data": {
      "text/plain": [
       "{3, 4, 15, 20, 47, 100}"
      ]
     },
     "execution_count": 160,
     "metadata": {},
     "output_type": "execute_result"
    }
   ],
   "source": [
    "s1.add(4)\n",
    "s1"
   ]
  },
  {
   "cell_type": "markdown",
   "id": "be122abb-8090-4769-8d81-030083126af2",
   "metadata": {},
   "source": [
    "2. clear"
   ]
  },
  {
   "cell_type": "code",
   "execution_count": 164,
   "id": "7033e3f5-00b7-42ca-8526-99739b1554a1",
   "metadata": {},
   "outputs": [],
   "source": [
    "s4.clear()"
   ]
  },
  {
   "cell_type": "code",
   "execution_count": 166,
   "id": "d294fd4b-6bb5-47b1-b410-64745eb7476b",
   "metadata": {},
   "outputs": [
    {
     "data": {
      "text/plain": [
       "set()"
      ]
     },
     "execution_count": 166,
     "metadata": {},
     "output_type": "execute_result"
    }
   ],
   "source": [
    "s4"
   ]
  },
  {
   "cell_type": "markdown",
   "id": "77563184-23df-4244-9f56-f298d3492335",
   "metadata": {},
   "source": [
    "3. Delet"
   ]
  },
  {
   "cell_type": "code",
   "execution_count": 176,
   "id": "639607df-2073-49df-b82f-78477bcf1383",
   "metadata": {},
   "outputs": [],
   "source": [
    "del s4"
   ]
  },
  {
   "cell_type": "code",
   "execution_count": 178,
   "id": "fe4a800f-7ce2-457f-b27e-1e0a2a3826a4",
   "metadata": {},
   "outputs": [
    {
     "ename": "NameError",
     "evalue": "name 's4' is not defined",
     "output_type": "error",
     "traceback": [
      "\u001b[1;31m---------------------------------------------------------------------------\u001b[0m",
      "\u001b[1;31mNameError\u001b[0m                                 Traceback (most recent call last)",
      "Cell \u001b[1;32mIn[178], line 1\u001b[0m\n\u001b[1;32m----> 1\u001b[0m s4\n",
      "\u001b[1;31mNameError\u001b[0m: name 's4' is not defined"
     ]
    }
   ],
   "source": [
    "s4"
   ]
  },
  {
   "cell_type": "code",
   "execution_count": null,
   "id": "cd474a72-3eda-473a-878d-f97e89d5f2e3",
   "metadata": {},
   "outputs": [],
   "source": []
  },
  {
   "cell_type": "code",
   "execution_count": 180,
   "id": "3ffd22cc-3d92-460f-9e02-0aa4e141b28e",
   "metadata": {},
   "outputs": [
    {
     "data": {
      "text/plain": [
       "{3, 4, 15, 20, 47, 100}"
      ]
     },
     "execution_count": 180,
     "metadata": {},
     "output_type": "execute_result"
    }
   ],
   "source": [
    "s1"
   ]
  },
  {
   "cell_type": "markdown",
   "id": "3a85a3d2-98a4-4ea2-af3e-a37384924a9b",
   "metadata": {},
   "source": [
    "3. Copy"
   ]
  },
  {
   "cell_type": "code",
   "execution_count": 182,
   "id": "9a99e963-634d-4ea8-b2f0-ca6a2639cc8e",
   "metadata": {},
   "outputs": [
    {
     "data": {
      "text/plain": [
       "{3, 4, 15, 20, 47, 100}"
      ]
     },
     "execution_count": 182,
     "metadata": {},
     "output_type": "execute_result"
    }
   ],
   "source": [
    "s4 = s1.copy()\n",
    "s4"
   ]
  },
  {
   "cell_type": "code",
   "execution_count": 185,
   "id": "be8e7821-7c34-45c0-a53c-055f60e49790",
   "metadata": {},
   "outputs": [
    {
     "data": {
      "text/plain": [
       "{3, 4, 15, 20, 47, 100}"
      ]
     },
     "execution_count": 185,
     "metadata": {},
     "output_type": "execute_result"
    }
   ],
   "source": [
    "s4"
   ]
  },
  {
   "cell_type": "code",
   "execution_count": null,
   "id": "dcf5c19b-9b12-4c29-bb83-395069432076",
   "metadata": {},
   "outputs": [],
   "source": []
  },
  {
   "cell_type": "markdown",
   "id": "a46aa279-b24a-455a-b3aa-60c5fc726c86",
   "metadata": {},
   "source": [
    "4.Remove"
   ]
  },
  {
   "cell_type": "code",
   "execution_count": 188,
   "id": "ea32f42d-e694-4a44-90fc-741e4233c3c4",
   "metadata": {},
   "outputs": [
    {
     "data": {
      "text/plain": [
       "{3, 4, 15, 20, 47}"
      ]
     },
     "execution_count": 188,
     "metadata": {},
     "output_type": "execute_result"
    }
   ],
   "source": [
    "s1.remove(100)\n",
    "s1"
   ]
  },
  {
   "cell_type": "code",
   "execution_count": 192,
   "id": "8c9c7272-035f-4d2d-abb3-3c7c80634dbd",
   "metadata": {},
   "outputs": [
    {
     "ename": "TypeError",
     "evalue": "'set' object is not subscriptable",
     "output_type": "error",
     "traceback": [
      "\u001b[1;31m---------------------------------------------------------------------------\u001b[0m",
      "\u001b[1;31mTypeError\u001b[0m                                 Traceback (most recent call last)",
      "Cell \u001b[1;32mIn[192], line 1\u001b[0m\n\u001b[1;32m----> 1\u001b[0m s1[:]\n",
      "\u001b[1;31mTypeError\u001b[0m: 'set' object is not subscriptable"
     ]
    }
   ],
   "source": [
    "s1[:]  # indexing and slicing is not allowed"
   ]
  },
  {
   "cell_type": "code",
   "execution_count": null,
   "id": "1bb4e6bd-6456-4937-976e-fb716b567b71",
   "metadata": {},
   "outputs": [],
   "source": []
  },
  {
   "cell_type": "markdown",
   "id": "cb423edb-6182-4663-b470-563d6a7145df",
   "metadata": {},
   "source": [
    "5. POP"
   ]
  },
  {
   "cell_type": "code",
   "execution_count": 197,
   "id": "72e20204-9e69-4821-a78b-2507fd51c9cc",
   "metadata": {},
   "outputs": [
    {
     "data": {
      "text/plain": [
       "{3, 4, 15, 20, 47}"
      ]
     },
     "execution_count": 197,
     "metadata": {},
     "output_type": "execute_result"
    }
   ],
   "source": [
    "s1"
   ]
  },
  {
   "cell_type": "code",
   "execution_count": 201,
   "id": "f1b9ba9d-caf9-4ff7-947d-0c89013b0be6",
   "metadata": {},
   "outputs": [
    {
     "data": {
      "text/plain": [
       "20"
      ]
     },
     "execution_count": 201,
     "metadata": {},
     "output_type": "execute_result"
    }
   ],
   "source": [
    "s1.pop()  #it will chose random element whithout giving indexS"
   ]
  },
  {
   "cell_type": "code",
   "execution_count": 205,
   "id": "ebc0b2b9-2c71-42e0-bab8-fc1005d9bc60",
   "metadata": {},
   "outputs": [
    {
     "ename": "TypeError",
     "evalue": "set.pop() takes no arguments (1 given)",
     "output_type": "error",
     "traceback": [
      "\u001b[1;31m---------------------------------------------------------------------------\u001b[0m",
      "\u001b[1;31mTypeError\u001b[0m                                 Traceback (most recent call last)",
      "Cell \u001b[1;32mIn[205], line 1\u001b[0m\n\u001b[1;32m----> 1\u001b[0m s1\u001b[38;5;241m.\u001b[39mpop(\u001b[38;5;241m1\u001b[39m)\n",
      "\u001b[1;31mTypeError\u001b[0m: set.pop() takes no arguments (1 given)"
     ]
    }
   ],
   "source": [
    "s1.pop(1)  # indexing not allowed"
   ]
  },
  {
   "cell_type": "code",
   "execution_count": null,
   "id": "45c829e2-b3db-4aa8-a504-15c08bc692a8",
   "metadata": {},
   "outputs": [],
   "source": []
  },
  {
   "cell_type": "code",
   "execution_count": null,
   "id": "302f3da0-5afa-4674-932d-bd155210317a",
   "metadata": {},
   "outputs": [],
   "source": []
  },
  {
   "cell_type": "code",
   "execution_count": null,
   "id": "427bfdfb-44b5-4e22-9348-1fb9c7bdb1bb",
   "metadata": {},
   "outputs": [],
   "source": []
  },
  {
   "cell_type": "code",
   "execution_count": null,
   "id": "bbf444bb-f2f0-495f-8ec5-c272db62b681",
   "metadata": {},
   "outputs": [],
   "source": []
  },
  {
   "cell_type": "markdown",
   "id": "6626cf7d-2d4f-40ca-ac3e-ae42cd495353",
   "metadata": {},
   "source": [
    "# Set operations\n"
   ]
  },
  {
   "cell_type": "code",
   "execution_count": 210,
   "id": "0af64642-8238-45b6-a6fd-b04d693d5719",
   "metadata": {},
   "outputs": [],
   "source": [
    "a = {1,2,3,4,5}\n",
    "b = {4,5,6,7,8}\n",
    "c = {8,9,10}"
   ]
  },
  {
   "cell_type": "code",
   "execution_count": 212,
   "id": "e3ab5933-f5b9-460b-8323-d13a81dc119e",
   "metadata": {},
   "outputs": [
    {
     "data": {
      "text/plain": [
       "set"
      ]
     },
     "execution_count": 212,
     "metadata": {},
     "output_type": "execute_result"
    }
   ],
   "source": [
    "type(a)\n",
    "type(b)\n",
    "type(c)"
   ]
  },
  {
   "cell_type": "markdown",
   "id": "fda2b6a1-f81e-431e-8070-61a636c939de",
   "metadata": {},
   "source": []
  },
  {
   "cell_type": "markdown",
   "id": "914588fc-b54f-4c2e-8b79-65257f48f211",
   "metadata": {},
   "source": [
    "1. Union\n",
    "* will give set of merged unique elements of two or more sets"
   ]
  },
  {
   "cell_type": "code",
   "execution_count": 215,
   "id": "abc98cc7-ebd2-4ac9-aeaa-4dc568e5d46c",
   "metadata": {},
   "outputs": [
    {
     "data": {
      "text/plain": [
       "{1, 2, 3, 4, 5, 6, 7, 8}"
      ]
     },
     "execution_count": 215,
     "metadata": {},
     "output_type": "execute_result"
    }
   ],
   "source": [
    "a.union(b)"
   ]
  },
  {
   "cell_type": "code",
   "execution_count": 217,
   "id": "2cc02476-b83e-4899-b74f-d0e637c3be71",
   "metadata": {},
   "outputs": [
    {
     "name": "stdout",
     "output_type": "stream",
     "text": [
      "{1, 2, 3, 4, 5}\n",
      "{4, 5, 6, 7, 8}\n",
      "{8, 9, 10}\n"
     ]
    }
   ],
   "source": [
    "print(a)\n",
    "print(b)\n",
    "print(c)"
   ]
  },
  {
   "cell_type": "code",
   "execution_count": 223,
   "id": "018e148f-6b5b-46ab-9e73-bb92eb85b9da",
   "metadata": {},
   "outputs": [
    {
     "data": {
      "text/plain": [
       "{1, 2, 3, 4, 5, 6, 7, 8}"
      ]
     },
     "execution_count": 223,
     "metadata": {},
     "output_type": "execute_result"
    }
   ],
   "source": [
    "d_union = a.union(b)  #created the variable to store the union set of a and b\n",
    "d_union"
   ]
  },
  {
   "cell_type": "code",
   "execution_count": 221,
   "id": "8314b841-8004-44dc-84dc-4cb8592d153e",
   "metadata": {},
   "outputs": [
    {
     "name": "stdout",
     "output_type": "stream",
     "text": [
      "{1, 2, 3, 4, 5}\n",
      "{4, 5, 6, 7, 8}\n",
      "{8, 9, 10}\n",
      "{1, 2, 3, 4, 5, 6, 7, 8}\n"
     ]
    }
   ],
   "source": [
    "print(a)\n",
    "print(b)\n",
    "print(c)\n",
    "print(d_union)"
   ]
  },
  {
   "cell_type": "code",
   "execution_count": 237,
   "id": "95b96f02-bb32-4a7f-b398-cb52677095ea",
   "metadata": {},
   "outputs": [
    {
     "data": {
      "text/plain": [
       "{1, 2, 3, 4, 5, 6, 7, 8, 9, 10}"
      ]
     },
     "execution_count": 237,
     "metadata": {},
     "output_type": "execute_result"
    }
   ],
   "source": [
    "b.union(a,c)  #will give set of merged unique elements of sets a,b,c\n",
    "a | b | c     #we can use | for union operation"
   ]
  },
  {
   "cell_type": "code",
   "execution_count": null,
   "id": "11694061-c172-4659-9587-7be973e96736",
   "metadata": {},
   "outputs": [],
   "source": []
  },
  {
   "cell_type": "markdown",
   "id": "931633f9-28af-493b-a9d1-5add7cbbc67a",
   "metadata": {},
   "source": [
    "2. Update\n",
    "* will add the unique elements of mentioned set in the elements of required set"
   ]
  },
  {
   "cell_type": "code",
   "execution_count": 240,
   "id": "922be2f4-62ff-4c7d-830d-01edc3e15bc9",
   "metadata": {},
   "outputs": [],
   "source": [
    "a.update(b)\n"
   ]
  },
  {
   "cell_type": "code",
   "execution_count": 242,
   "id": "3761b15b-a1c3-4caf-b33a-ad523a695b32",
   "metadata": {},
   "outputs": [
    {
     "name": "stdout",
     "output_type": "stream",
     "text": [
      "{1, 2, 3, 4, 5, 6, 7, 8}\n",
      "{4, 5, 6, 7, 8}\n",
      "{8, 9, 10}\n",
      "{1, 2, 3, 4, 5, 6, 7, 8}\n"
     ]
    }
   ],
   "source": [
    "print(a)\n",
    "print(b)\n",
    "print(c)\n",
    "print(d_union)"
   ]
  },
  {
   "cell_type": "code",
   "execution_count": 245,
   "id": "37c9a3c3-e9b2-4b86-b7cc-90bfa825e8b0",
   "metadata": {},
   "outputs": [],
   "source": [
    "c.update(b)"
   ]
  },
  {
   "cell_type": "code",
   "execution_count": 247,
   "id": "705ef14e-41bd-477c-9a6a-09ce77e66d4b",
   "metadata": {},
   "outputs": [
    {
     "name": "stdout",
     "output_type": "stream",
     "text": [
      "{4, 5, 6, 7, 8, 9, 10}\n"
     ]
    }
   ],
   "source": [
    "print(c)"
   ]
  },
  {
   "cell_type": "code",
   "execution_count": null,
   "id": "cd4cd183-31ef-4b10-a0e8-3aa089658b81",
   "metadata": {},
   "outputs": [],
   "source": []
  },
  {
   "cell_type": "markdown",
   "id": "6982fbd2-9fe3-4d90-a10e-29fe7eb2cfdc",
   "metadata": {},
   "source": []
  },
  {
   "cell_type": "markdown",
   "id": "d8ef3e13-7783-4e6d-97c0-b1f4889c8eb0",
   "metadata": {},
   "source": [
    "3. Intersection\n",
    "* Will give the comman values within sets"
   ]
  },
  {
   "cell_type": "code",
   "execution_count": 250,
   "id": "eb900013-0e21-4e79-9e24-b2d481405d27",
   "metadata": {},
   "outputs": [],
   "source": [
    "a1 = {1,2,3,4,5}\n",
    "b1 = {4,5,6,7,8}\n",
    "c1 = {8,9,10}"
   ]
  },
  {
   "cell_type": "code",
   "execution_count": 255,
   "id": "17ac7591-f02b-4c02-b5ab-15ba565994a6",
   "metadata": {},
   "outputs": [
    {
     "data": {
      "text/plain": [
       "{4, 5}"
      ]
     },
     "execution_count": 255,
     "metadata": {},
     "output_type": "execute_result"
    }
   ],
   "source": [
    "a1.intersection(b1)\n"
   ]
  },
  {
   "cell_type": "code",
   "execution_count": 257,
   "id": "c1c9aaa1-d831-4c46-8ef5-f2b5b4855e6e",
   "metadata": {},
   "outputs": [
    {
     "data": {
      "text/plain": [
       "{8}"
      ]
     },
     "execution_count": 257,
     "metadata": {},
     "output_type": "execute_result"
    }
   ],
   "source": [
    "b1 & c1 #we can use & for intersection operations"
   ]
  },
  {
   "cell_type": "code",
   "execution_count": null,
   "id": "93c6d2d7-8415-421d-b825-ca0bd9cb6ab4",
   "metadata": {},
   "outputs": [],
   "source": []
  },
  {
   "cell_type": "markdown",
   "id": "623cac5b-a4ff-4ffb-8aad-fcead98a5084",
   "metadata": {},
   "source": [
    "4. Diffrence\n",
    "* will only give elemnt of set from which you are substracting as a output"
   ]
  },
  {
   "cell_type": "code",
   "execution_count": 266,
   "id": "5c96feb7-6d2d-4f0b-8295-e24d130e8fc7",
   "metadata": {},
   "outputs": [],
   "source": [
    "a2 = {1,2,3,4,5} #will only give elemnt of set from which you are substracting as a output\n",
    "b2 = {4,5,6,7,8}\n",
    "c2 = {8,9,10}"
   ]
  },
  {
   "cell_type": "code",
   "execution_count": 288,
   "id": "1e04d837-8ea8-4d3a-a0ab-628f2581ebb4",
   "metadata": {},
   "outputs": [
    {
     "data": {
      "text/plain": [
       "{1, 2, 3}"
      ]
     },
     "execution_count": 288,
     "metadata": {},
     "output_type": "execute_result"
    }
   ],
   "source": [
    "a2 - b2                 # gives a2 elements because we are substracting from a2.\n",
    "                        #gives 1,2,3 because they are not comman in both sets\n",
    "a2.difference(b2)       #we can use this sintax also"
   ]
  },
  {
   "cell_type": "code",
   "execution_count": 276,
   "id": "6d6b9d93-ab7e-4da8-83c0-0319ffb2099c",
   "metadata": {},
   "outputs": [
    {
     "data": {
      "text/plain": [
       "{6, 7, 8}"
      ]
     },
     "execution_count": 276,
     "metadata": {},
     "output_type": "execute_result"
    }
   ],
   "source": [
    "b2 - a2  # gives b2 elements because we are substracting from b2.\n",
    "         #gives 6,7,8 because they are not comman in both sets"
   ]
  },
  {
   "cell_type": "code",
   "execution_count": 278,
   "id": "141fb84e-4abf-49da-aff4-6c8cdcf07347",
   "metadata": {},
   "outputs": [
    {
     "data": {
      "text/plain": [
       "{1, 2, 3, 4, 5}"
      ]
     },
     "execution_count": 278,
     "metadata": {},
     "output_type": "execute_result"
    }
   ],
   "source": [
    "a2 - c2  # gives a2 elements because we are substracting from a2.\n",
    "         #gives 1,2,3,4,5 because they are not comman in both sets"
   ]
  },
  {
   "cell_type": "code",
   "execution_count": 282,
   "id": "5d36e7c3-7d0a-4a3a-923c-50eb9b13bc0c",
   "metadata": {},
   "outputs": [
    {
     "data": {
      "text/plain": [
       "{8, 9, 10}"
      ]
     },
     "execution_count": 282,
     "metadata": {},
     "output_type": "execute_result"
    }
   ],
   "source": [
    "c2 - a2  # gives c2 elements because we are substracting from c2.\n",
    "         #gives 8,9,10 because they are not comman in both sets\n",
    "         #Can substract big set from small set also"
   ]
  },
  {
   "cell_type": "code",
   "execution_count": null,
   "id": "1c1d296a-156a-4adc-ac35-30dacfb01b87",
   "metadata": {},
   "outputs": [],
   "source": []
  },
  {
   "cell_type": "markdown",
   "id": "a905876a-c463-44c6-8847-a596836b79f9",
   "metadata": {},
   "source": [
    "4. Symetric Diffrence\n",
    "* will display all elemets which are not comman in both the sets"
   ]
  },
  {
   "cell_type": "code",
   "execution_count": 295,
   "id": "3765dc98-9556-45a9-b275-b0c143943fe2",
   "metadata": {},
   "outputs": [],
   "source": [
    "a2 = {1,2,3,4,5} \n",
    "b2 = {4,5,6,7,8}\n",
    "c2 = {8,9,10}"
   ]
  },
  {
   "cell_type": "code",
   "execution_count": 297,
   "id": "36b6028b-44b4-4fb8-8666-1253fa0cb311",
   "metadata": {},
   "outputs": [
    {
     "data": {
      "text/plain": [
       "{1, 2, 3, 6, 7, 8}"
      ]
     },
     "execution_count": 297,
     "metadata": {},
     "output_type": "execute_result"
    }
   ],
   "source": [
    "a2.symmetric_difference(b2)"
   ]
  },
  {
   "cell_type": "code",
   "execution_count": 299,
   "id": "63f526b1-c684-4c30-bf2b-973fc2ae2e66",
   "metadata": {},
   "outputs": [
    {
     "data": {
      "text/plain": [
       "{4, 5, 6, 7, 9, 10}"
      ]
     },
     "execution_count": 299,
     "metadata": {},
     "output_type": "execute_result"
    }
   ],
   "source": [
    "b2.symmetric_difference(c2)"
   ]
  },
  {
   "cell_type": "code",
   "execution_count": 301,
   "id": "5707d8f2-5659-40be-9b8d-948d58d85fe8",
   "metadata": {},
   "outputs": [
    {
     "data": {
      "text/plain": [
       "{1, 2, 3, 6, 7, 8}"
      ]
     },
     "execution_count": 301,
     "metadata": {},
     "output_type": "execute_result"
    }
   ],
   "source": [
    "b2.symmetric_difference(a2)"
   ]
  },
  {
   "cell_type": "code",
   "execution_count": 325,
   "id": "8a5c9179-5581-4252-933a-abec0887d417",
   "metadata": {},
   "outputs": [
    {
     "ename": "NameError",
     "evalue": "name 'a4' is not defined",
     "output_type": "error",
     "traceback": [
      "\u001b[1;31m---------------------------------------------------------------------------\u001b[0m",
      "\u001b[1;31mNameError\u001b[0m                                 Traceback (most recent call last)",
      "Cell \u001b[1;32mIn[325], line 1\u001b[0m\n\u001b[1;32m----> 1\u001b[0m a4\n",
      "\u001b[1;31mNameError\u001b[0m: name 'a4' is not defined"
     ]
    }
   ],
   "source": [
    "\n"
   ]
  },
  {
   "cell_type": "code",
   "execution_count": null,
   "id": "7ad275cc-b512-44e3-8ab6-51087c1685eb",
   "metadata": {},
   "outputs": [],
   "source": []
  },
  {
   "cell_type": "markdown",
   "id": "8e36e993-cf69-4e61-b7f5-49749abffa6f",
   "metadata": {},
   "source": [
    "#1st NOV (Inheritance)\n",
    "-"
   ]
  },
  {
   "cell_type": "markdown",
   "id": "7537d52a-78c8-4743-9aa9-edc55bc792cd",
   "metadata": {},
   "source": [
    "Subset, Superset,Disjoint\n",
    "-\n"
   ]
  },
  {
   "cell_type": "code",
   "execution_count": 29,
   "id": "1db89e94-eb1e-4cb1-bdbd-5fe6ce879b9a",
   "metadata": {},
   "outputs": [],
   "source": [
    "a5 = {1,2,3,4,5,6,7,8,9} \n",
    "b5 = {3,4,5,6,7,8} \n",
    "c5 = {10,20,30,40} \n"
   ]
  },
  {
   "cell_type": "code",
   "execution_count": 31,
   "id": "3fa5305b-de46-485e-9ddc-131792a9e90c",
   "metadata": {},
   "outputs": [
    {
     "data": {
      "text/plain": [
       "True"
      ]
     },
     "execution_count": 31,
     "metadata": {},
     "output_type": "execute_result"
    }
   ],
   "source": [
    "a5.issuperset(b5)"
   ]
  },
  {
   "cell_type": "code",
   "execution_count": 33,
   "id": "0e389230-849b-4e5b-8297-75b02cd81414",
   "metadata": {},
   "outputs": [
    {
     "data": {
      "text/plain": [
       "False"
      ]
     },
     "execution_count": 33,
     "metadata": {},
     "output_type": "execute_result"
    }
   ],
   "source": [
    "a5.issubset(b5)"
   ]
  },
  {
   "cell_type": "code",
   "execution_count": 35,
   "id": "39f4150f-3d23-43c2-8a2c-5023638d747e",
   "metadata": {},
   "outputs": [
    {
     "data": {
      "text/plain": [
       "False"
      ]
     },
     "execution_count": 35,
     "metadata": {},
     "output_type": "execute_result"
    }
   ],
   "source": [
    "a5.isdisjoint(b5)"
   ]
  },
  {
   "cell_type": "code",
   "execution_count": 37,
   "id": "bdae8339-7d93-4777-9352-71108570f479",
   "metadata": {},
   "outputs": [
    {
     "data": {
      "text/plain": [
       "True"
      ]
     },
     "execution_count": 37,
     "metadata": {},
     "output_type": "execute_result"
    }
   ],
   "source": [
    "a5.isdisjoint(c5)"
   ]
  },
  {
   "cell_type": "code",
   "execution_count": 61,
   "id": "725d7e78-73d4-4174-8ea9-3287160b6207",
   "metadata": {},
   "outputs": [],
   "source": [
    "a6 = {1,2,3,4} \n",
    "b6 = {5,6,7,8} \n",
    "c6 = {10,20,30,40} "
   ]
  },
  {
   "cell_type": "code",
   "execution_count": 63,
   "id": "c1a31def-a5ce-428f-8619-22bbc04be857",
   "metadata": {},
   "outputs": [
    {
     "data": {
      "text/plain": [
       "False"
      ]
     },
     "execution_count": 63,
     "metadata": {},
     "output_type": "execute_result"
    }
   ],
   "source": [
    "a6.issuperset(c6)"
   ]
  },
  {
   "cell_type": "markdown",
   "id": "3764c55b-8e97-4a25-8774-df764f256d10",
   "metadata": {},
   "source": [
    "#Some inbuilt functions\n",
    "\n",
    "1. Max - give maximum value of element within set\n",
    "2. Sum - give sum of all elements in the set\n",
    "3. len - give lenth of set.\n"
   ]
  },
  {
   "cell_type": "code",
   "execution_count": 68,
   "id": "e6b34814-05cb-4fc4-ad20-70367e8fcddf",
   "metadata": {},
   "outputs": [
    {
     "data": {
      "text/plain": [
       "{1, 2, 3, 4, 5, 6, 7, 8, 9}"
      ]
     },
     "execution_count": 68,
     "metadata": {},
     "output_type": "execute_result"
    }
   ],
   "source": [
    "a = {1,2,3,4,5,6,7,8,9}\n",
    "a"
   ]
  },
  {
   "cell_type": "code",
   "execution_count": 70,
   "id": "8f5221f8-1097-4e3f-bd09-5d4dd7f41a8a",
   "metadata": {},
   "outputs": [
    {
     "data": {
      "text/plain": [
       "9"
      ]
     },
     "execution_count": 70,
     "metadata": {},
     "output_type": "execute_result"
    }
   ],
   "source": [
    "max(a)"
   ]
  },
  {
   "cell_type": "code",
   "execution_count": 72,
   "id": "b9316af7-9af4-49a8-9026-3864d019df03",
   "metadata": {},
   "outputs": [
    {
     "data": {
      "text/plain": [
       "45"
      ]
     },
     "execution_count": 72,
     "metadata": {},
     "output_type": "execute_result"
    }
   ],
   "source": [
    "sum(a)"
   ]
  },
  {
   "cell_type": "code",
   "execution_count": 74,
   "id": "ecccafec-3df7-4842-a9b3-ca013570cc4d",
   "metadata": {},
   "outputs": [
    {
     "data": {
      "text/plain": [
       "9"
      ]
     },
     "execution_count": 74,
     "metadata": {},
     "output_type": "execute_result"
    }
   ],
   "source": [
    "len(a)"
   ]
  },
  {
   "cell_type": "code",
   "execution_count": 76,
   "id": "2531566b-663a-492c-b68b-dd029342664d",
   "metadata": {},
   "outputs": [
    {
     "data": {
      "text/plain": [
       "[9, 8, 7, 6, 5, 4, 3, 2, 1]"
      ]
     },
     "execution_count": 76,
     "metadata": {},
     "output_type": "execute_result"
    }
   ],
   "source": [
    "sorted(a,reverse = True)"
   ]
  },
  {
   "cell_type": "code",
   "execution_count": 78,
   "id": "7420e4cd-7bd0-46bd-b397-cb453cef9c98",
   "metadata": {},
   "outputs": [
    {
     "data": {
      "text/plain": [
       "[1, 2, 3, 4, 5, 6, 7, 8, 9]"
      ]
     },
     "execution_count": 78,
     "metadata": {},
     "output_type": "execute_result"
    }
   ],
   "source": [
    "sorted(a)"
   ]
  },
  {
   "cell_type": "code",
   "execution_count": null,
   "id": "55727131-e089-425e-b742-34da4fd47e62",
   "metadata": {},
   "outputs": [],
   "source": []
  },
  {
   "cell_type": "code",
   "execution_count": null,
   "id": "29daf5c4-802c-4b31-826c-c7ea2004bbbd",
   "metadata": {},
   "outputs": [],
   "source": []
  },
  {
   "cell_type": "markdown",
   "id": "f72baa82-2707-42e0-a1dc-9f71eaffd3ae",
   "metadata": {},
   "source": [
    "Dictionary (Dic)\n",
    "-"
   ]
  },
  {
   "cell_type": "markdown",
   "id": "0384e016-0274-4f5a-96b4-78fc1b884bd3",
   "metadata": {},
   "source": [
    "Consist of key and value\n",
    "* key = can not be duplicated\n",
    "* value = can be duplicated\n",
    "* dict is mutable\n",
    "* indexing is not allowed"
   ]
  },
  {
   "cell_type": "code",
   "execution_count": 90,
   "id": "0a218493-eb98-4b2d-8bfc-9166c0a8af3c",
   "metadata": {},
   "outputs": [
    {
     "data": {
      "text/plain": [
       "dict"
      ]
     },
     "execution_count": 90,
     "metadata": {},
     "output_type": "execute_result"
    }
   ],
   "source": [
    "d = {}\n",
    "type(d) "
   ]
  },
  {
   "cell_type": "code",
   "execution_count": 96,
   "id": "f9817df7-077e-4e58-93d9-39f7e60119f9",
   "metadata": {},
   "outputs": [
    {
     "data": {
      "text/plain": [
       "{1: 'one', 2: 'two', 3: 'three', 4: 'four', 5: 'five'}"
      ]
     },
     "execution_count": 96,
     "metadata": {},
     "output_type": "execute_result"
    }
   ],
   "source": [
    "d = {1 :'one' , 2 :'two' , 3:'three' , 4 :'four' , 5 :'five'}\n",
    "d\n",
    "\n",
    "#KEY= 1,2,3,4,5\n",
    "#VALUE= one,two,three,four,five"
   ]
  },
  {
   "cell_type": "code",
   "execution_count": 99,
   "id": "b10c169a-09a4-41fb-8cb1-fcfb875d0fed",
   "metadata": {},
   "outputs": [
    {
     "data": {
      "text/plain": [
       "{'six': 6, 'seven': 7, 'eight': 8, 'nine': 9, 'ten': 10}"
      ]
     },
     "execution_count": 99,
     "metadata": {},
     "output_type": "execute_result"
    }
   ],
   "source": [
    "d1 = {'six':6 , 'seven':7 , 'eight':8 , 'nine':9 , 'ten':10}\n",
    "d1"
   ]
  },
  {
   "cell_type": "code",
   "execution_count": 102,
   "id": "2b6f2a86-efa3-437c-9a29-628eeb774060",
   "metadata": {},
   "outputs": [
    {
     "name": "stdout",
     "output_type": "stream",
     "text": [
      "5\n",
      "5\n"
     ]
    }
   ],
   "source": [
    "print(len(d))  #lenth is equels to number of keys\n",
    "print(len(d))"
   ]
  },
  {
   "cell_type": "code",
   "execution_count": 109,
   "id": "4b735ecf-7632-466c-9e7a-71c73c7f3f10",
   "metadata": {},
   "outputs": [
    {
     "data": {
      "text/plain": [
       "{1: 'one', 2: 'two', 3: 'three', 4: 'four', 5: 'five'}"
      ]
     },
     "execution_count": 109,
     "metadata": {},
     "output_type": "execute_result"
    }
   ],
   "source": [
    "d"
   ]
  },
  {
   "cell_type": "code",
   "execution_count": 115,
   "id": "509460ea-f7f1-4580-ab33-d7afaf2cc928",
   "metadata": {},
   "outputs": [
    {
     "data": {
      "text/plain": [
       "'one'"
      ]
     },
     "execution_count": 115,
     "metadata": {},
     "output_type": "execute_result"
    }
   ],
   "source": [
    "d[1]  #we can find the value of perticular key by giving the key"
   ]
  },
  {
   "cell_type": "code",
   "execution_count": 107,
   "id": "9935bfe5-61b4-4e0a-bbcf-d42660d81666",
   "metadata": {},
   "outputs": [
    {
     "data": {
      "text/plain": [
       "'two'"
      ]
     },
     "execution_count": 107,
     "metadata": {},
     "output_type": "execute_result"
    }
   ],
   "source": [
    "d[2]"
   ]
  },
  {
   "cell_type": "code",
   "execution_count": 113,
   "id": "b876663a-6349-4766-a5ea-22b7069600df",
   "metadata": {},
   "outputs": [
    {
     "data": {
      "text/plain": [
       "'three'"
      ]
     },
     "execution_count": 113,
     "metadata": {},
     "output_type": "execute_result"
    }
   ],
   "source": [
    "d[3]"
   ]
  },
  {
   "cell_type": "code",
   "execution_count": 121,
   "id": "8897cfc3-6aa2-4718-81d9-b3443755a6d2",
   "metadata": {},
   "outputs": [
    {
     "ename": "KeyError",
     "evalue": "'one'",
     "output_type": "error",
     "traceback": [
      "\u001b[1;31m---------------------------------------------------------------------------\u001b[0m",
      "\u001b[1;31mKeyError\u001b[0m                                  Traceback (most recent call last)",
      "Cell \u001b[1;32mIn[121], line 1\u001b[0m\n\u001b[1;32m----> 1\u001b[0m d[\u001b[38;5;124m'\u001b[39m\u001b[38;5;124mone\u001b[39m\u001b[38;5;124m'\u001b[39m]\n",
      "\u001b[1;31mKeyError\u001b[0m: 'one'"
     ]
    }
   ],
   "source": [
    "d['one']"
   ]
  },
  {
   "cell_type": "code",
   "execution_count": 123,
   "id": "2e1216aa-d034-4c4a-a943-7fbed4ad7864",
   "metadata": {},
   "outputs": [
    {
     "data": {
      "text/plain": [
       "{'six': 6, 'seven': 7, 'eight': 8, 'nine': 9, 'ten': 10}"
      ]
     },
     "execution_count": 123,
     "metadata": {},
     "output_type": "execute_result"
    }
   ],
   "source": [
    "d1"
   ]
  },
  {
   "cell_type": "code",
   "execution_count": 131,
   "id": "c5368578-41ba-4f97-bb59-60a06f52417a",
   "metadata": {},
   "outputs": [
    {
     "data": {
      "text/plain": [
       "6"
      ]
     },
     "execution_count": 131,
     "metadata": {},
     "output_type": "execute_result"
    }
   ],
   "source": [
    "d1['six']"
   ]
  },
  {
   "cell_type": "code",
   "execution_count": 133,
   "id": "3df9593d-d396-4891-9f7d-ca3b16af2c6d",
   "metadata": {},
   "outputs": [
    {
     "data": {
      "text/plain": [
       "dict_keys([1, 2, 3, 4, 5])"
      ]
     },
     "execution_count": 133,
     "metadata": {},
     "output_type": "execute_result"
    }
   ],
   "source": [
    "d.keys()  #gives keys from dict"
   ]
  },
  {
   "cell_type": "code",
   "execution_count": 139,
   "id": "d48ebf21-025a-427c-ba10-32258952ca52",
   "metadata": {},
   "outputs": [
    {
     "data": {
      "text/plain": [
       "dict_values(['one', 'two', 'three', 'four', 'five'])"
      ]
     },
     "execution_count": 139,
     "metadata": {},
     "output_type": "execute_result"
    }
   ],
   "source": [
    "d.values() ##gives values from dict"
   ]
  },
  {
   "cell_type": "code",
   "execution_count": 147,
   "id": "c496ec43-91cd-40d5-a5a1-89a942e196c8",
   "metadata": {},
   "outputs": [
    {
     "data": {
      "text/plain": [
       "dict_items([(1, 'one'), (2, 'two'), (3, 'three'), (4, 'four'), (5, 'five')])"
      ]
     },
     "execution_count": 147,
     "metadata": {},
     "output_type": "execute_result"
    }
   ],
   "source": [
    "d.items() #gives the items(combination of value and key)"
   ]
  },
  {
   "cell_type": "code",
   "execution_count": 151,
   "id": "ecb5c502-91d4-4dd8-b85d-fabef2907f64",
   "metadata": {},
   "outputs": [
    {
     "name": "stdout",
     "output_type": "stream",
     "text": [
      "5\n"
     ]
    }
   ],
   "source": [
    "print(len (d.items()))"
   ]
  },
  {
   "cell_type": "code",
   "execution_count": 143,
   "id": "944f7771-29ca-4ab6-a5cd-0ecb2a7ed035",
   "metadata": {},
   "outputs": [
    {
     "data": {
      "text/plain": [
       "{1: False, 2.3: 4.5, 'nit': 'nit', (1+2j): (4+5j)}"
      ]
     },
     "execution_count": 143,
     "metadata": {},
     "output_type": "execute_result"
    }
   ],
   "source": [
    "d2 ={1:2, 2.3:4.5 ,'nit':'nit', True:False, 1+2j:4+5j}\n",
    "d2"
   ]
  },
  {
   "cell_type": "code",
   "execution_count": 155,
   "id": "ad673f72-4e17-4bef-b720-5c8b8c7fab60",
   "metadata": {},
   "outputs": [
    {
     "data": {
      "text/plain": [
       "{'b': None, 'd': None, 'a': None, 'c': None}"
      ]
     },
     "execution_count": 155,
     "metadata": {},
     "output_type": "execute_result"
    }
   ],
   "source": [
    "d3 = {'a','b','c','d'}\n",
    "d4 = dict.fromkeys(d3)  #use to create the new dict from only key.\n",
    "d4                      #if you dont give values to key it will consider it as null."
   ]
  },
  {
   "cell_type": "code",
   "execution_count": 159,
   "id": "9849b405-ca96-4200-95ad-9d443215992f",
   "metadata": {},
   "outputs": [
    {
     "data": {
      "text/plain": [
       "{'b': 10, 'd': 10, 'a': 10, 'c': 10}"
      ]
     },
     "execution_count": 159,
     "metadata": {},
     "output_type": "execute_result"
    }
   ],
   "source": [
    "d3 = {'a','b','c','d'}\n",
    "value = 10                     #we can give value at once to keys.\n",
    "d4 = dict.fromkeys(d3,value)    # created the dict d4 with value 10\n",
    "d4                      "
   ]
  },
  {
   "cell_type": "code",
   "execution_count": 161,
   "id": "611a06bf-5933-4235-a49b-39102104217c",
   "metadata": {},
   "outputs": [
    {
     "data": {
      "text/plain": [
       "{'b': [10, 20, 30], 'd': [10, 20, 30], 'a': [10, 20, 30], 'c': [10, 20, 30]}"
      ]
     },
     "execution_count": 161,
     "metadata": {},
     "output_type": "execute_result"
    }
   ],
   "source": [
    "d3 = {'a','b','c','d'}\n",
    "value = [10,20,30]                     #we can give multiple value at once to keys.\n",
    "d4 = dict.fromkeys(d3,value)    # created the dict d4 with value 1020,30\n",
    "d4  "
   ]
  },
  {
   "cell_type": "markdown",
   "id": "3120bd82-6f8a-4375-aa09-f310c9341628",
   "metadata": {},
   "source": [
    "Functions of dict\n"
   ]
  },
  {
   "cell_type": "code",
   "execution_count": 168,
   "id": "698996d3-795b-492f-9d9f-7ad35fca6f65",
   "metadata": {},
   "outputs": [
    {
     "data": {
      "text/plain": [
       "{'Name': 'devendra', 'YOB': 1999, 'job': 'data analyst'}"
      ]
     },
     "execution_count": 168,
     "metadata": {},
     "output_type": "execute_result"
    }
   ],
   "source": [
    "d5 = {'Name':'devendra','YOB':1999,'job':'data analyst'}\n",
    "d5"
   ]
  },
  {
   "cell_type": "markdown",
   "id": "0c4119a2-0a94-48da-8ad3-7d0a84a4d287",
   "metadata": {},
   "source": [
    "Add, Remove(POP), Change item\n",
    "-\n"
   ]
  },
  {
   "cell_type": "code",
   "execution_count": 171,
   "id": "5a461720-82f3-4730-be10-d94c7a22d72e",
   "metadata": {},
   "outputs": [
    {
     "data": {
      "text/plain": [
       "{'Name': 'devendra', 'YOB': 1999, 'job': 'data analyst'}"
      ]
     },
     "execution_count": 171,
     "metadata": {},
     "output_type": "execute_result"
    }
   ],
   "source": [
    "d5"
   ]
  },
  {
   "cell_type": "markdown",
   "id": "8e7d2b4b-562c-4349-8a8d-02726de49f1b",
   "metadata": {},
   "source": [
    "ADD\n"
   ]
  },
  {
   "cell_type": "code",
   "execution_count": 176,
   "id": "2f4f2a20-dffb-4596-9019-5d01303df7f7",
   "metadata": {},
   "outputs": [],
   "source": [
    "d5['adress'] = 'chopda'"
   ]
  },
  {
   "cell_type": "code",
   "execution_count": 178,
   "id": "ea59d97f-1812-4705-97fc-55f21cc719be",
   "metadata": {},
   "outputs": [
    {
     "data": {
      "text/plain": [
       "{'Name': 'devendra', 'YOB': 1999, 'job': 'data analyst', 'adress': 'chopda'}"
      ]
     },
     "execution_count": 178,
     "metadata": {},
     "output_type": "execute_result"
    }
   ],
   "source": [
    "d5"
   ]
  },
  {
   "cell_type": "markdown",
   "id": "c7e216f9-519c-4248-b1fa-fe7cad0777e4",
   "metadata": {},
   "source": [
    "Change\n"
   ]
  },
  {
   "cell_type": "code",
   "execution_count": 181,
   "id": "cbc84e4d-57df-4961-a0cb-d78d1bc730a2",
   "metadata": {},
   "outputs": [
    {
     "data": {
      "text/plain": [
       "{'Name': 'dev', 'YOB': 1999, 'job': 'data analyst', 'adress': 'jalgaon'}"
      ]
     },
     "execution_count": 181,
     "metadata": {},
     "output_type": "execute_result"
    }
   ],
   "source": [
    "d5['adress'] = 'jalgaon'\n",
    "d5['Name'] = 'dev'\n",
    "d5"
   ]
  },
  {
   "cell_type": "markdown",
   "id": "534729f6-bfba-4d77-b50f-db8858811482",
   "metadata": {},
   "source": [
    "Update"
   ]
  },
  {
   "cell_type": "code",
   "execution_count": 185,
   "id": "fce6bc63-4c85-4eb0-80aa-2a5d2ad20b2a",
   "metadata": {},
   "outputs": [
    {
     "data": {
      "text/plain": [
       "{'Name': 'dev', 'YOB': 1998, 'job': 'data analyst', 'adress': 'jalgaon'}"
      ]
     },
     "execution_count": 185,
     "metadata": {},
     "output_type": "execute_result"
    }
   ],
   "source": [
    "d6 = {'YOB':1998}\n",
    "d5.update(d6)\n",
    "d5"
   ]
  },
  {
   "cell_type": "markdown",
   "id": "69721b6b-75e3-4a6c-ad8f-3f511dd07063",
   "metadata": {},
   "source": [
    "remove(pop)"
   ]
  },
  {
   "cell_type": "code",
   "execution_count": 190,
   "id": "08d1f086-fce7-4b23-b1d4-7828fc281222",
   "metadata": {},
   "outputs": [
    {
     "data": {
      "text/plain": [
       "{'Name': 'dev', 'YOB': 1998, 'job': 'data analyst', 'adress': 'jalgaon'}"
      ]
     },
     "execution_count": 190,
     "metadata": {},
     "output_type": "execute_result"
    }
   ],
   "source": [
    "d5"
   ]
  },
  {
   "cell_type": "code",
   "execution_count": 202,
   "id": "7f0acc92-d6ef-42ee-8c1e-cd4440c69cd0",
   "metadata": {},
   "outputs": [
    {
     "data": {
      "text/plain": [
       "{'Name': 'dev'}"
      ]
     },
     "execution_count": 202,
     "metadata": {},
     "output_type": "execute_result"
    }
   ],
   "source": [
    "d5.popitem()  #removes random element\n",
    "              #popitem is used to remove item\n",
    "d5"
   ]
  },
  {
   "cell_type": "code",
   "execution_count": 200,
   "id": "5fc630c9-fc2a-4647-80a6-c21f5eb89564",
   "metadata": {},
   "outputs": [
    {
     "data": {
      "text/plain": [
       "{'Name': 'dev', 'YOB': 1998}"
      ]
     },
     "execution_count": 200,
     "metadata": {},
     "output_type": "execute_result"
    }
   ],
   "source": [
    "d5.pop('job') #pop is used to remove key only\n",
    "d5"
   ]
  },
  {
   "cell_type": "markdown",
   "id": "0bba7a51-1e81-4be0-a6a1-9974ac4239a3",
   "metadata": {},
   "source": [
    "Copy\n"
   ]
  },
  {
   "cell_type": "code",
   "execution_count": 206,
   "id": "a4b21499-23bc-4020-b059-e64fcf4c0303",
   "metadata": {},
   "outputs": [
    {
     "data": {
      "text/plain": [
       "{'Name': 'devendra', 'YOB': 1999, 'job': 'data analyst', 'adress': 'chopda'}"
      ]
     },
     "execution_count": 206,
     "metadata": {},
     "output_type": "execute_result"
    }
   ],
   "source": [
    "d6 = {'Name': 'devendra', 'YOB': 1999, 'job': 'data analyst', 'adress': 'chopda'}\n",
    "d6"
   ]
  },
  {
   "cell_type": "code",
   "execution_count": 210,
   "id": "012c1f41-aa04-41fc-bd60-c5e4ba7d20a5",
   "metadata": {},
   "outputs": [
    {
     "data": {
      "text/plain": [
       "{'Name': 'devendra', 'YOB': 1999, 'job': 'data analyst', 'adress': 'chopda'}"
      ]
     },
     "execution_count": 210,
     "metadata": {},
     "output_type": "execute_result"
    }
   ],
   "source": [
    "d7 = d6.copy()\n",
    "d7"
   ]
  },
  {
   "cell_type": "code",
   "execution_count": 214,
   "id": "0f681bc5-c9fa-4042-a58e-6f1e5fd60e33",
   "metadata": {},
   "outputs": [
    {
     "name": "stdout",
     "output_type": "stream",
     "text": [
      "Name : devendra\n",
      "YOB : 1999\n",
      "job : data analyst\n",
      "adress : chopda\n"
     ]
    }
   ],
   "source": [
    "for i in d7: \n",
    "    print(i , ':' , d7[i])"
   ]
  },
  {
   "cell_type": "code",
   "execution_count": null,
   "id": "04d3014e-553b-4b33-ade5-ce016ae1c2ca",
   "metadata": {},
   "outputs": [],
   "source": []
  },
  {
   "cell_type": "markdown",
   "id": "8bd8830c-73fa-46a9-8999-ce3e32a815ab",
   "metadata": {},
   "source": [
    "Range\n"
   ]
  },
  {
   "cell_type": "code",
   "execution_count": 227,
   "id": "aca9e214-c0ea-4947-9818-a4bda95c690b",
   "metadata": {},
   "outputs": [
    {
     "data": {
      "text/plain": [
       "range(5, 10)"
      ]
     },
     "execution_count": 227,
     "metadata": {},
     "output_type": "execute_result"
    }
   ],
   "source": [
    " r =  range(5,10)\n",
    "r"
   ]
  },
  {
   "cell_type": "code",
   "execution_count": 229,
   "id": "d8cf8ac7-2bbe-4bb1-b40b-7f3bc58e21d4",
   "metadata": {},
   "outputs": [
    {
     "name": "stdout",
     "output_type": "stream",
     "text": [
      "5\n",
      "6\n",
      "7\n",
      "8\n",
      "9\n"
     ]
    }
   ],
   "source": [
    "for i in r:\n",
    "    print(i)"
   ]
  },
  {
   "cell_type": "code",
   "execution_count": 231,
   "id": "71a0be0b-7894-4296-8853-3f417e60cd6e",
   "metadata": {},
   "outputs": [
    {
     "data": {
      "text/plain": [
       "[5, 6, 7, 8, 9]"
      ]
     },
     "execution_count": 231,
     "metadata": {},
     "output_type": "execute_result"
    }
   ],
   "source": [
    "list(r)"
   ]
  },
  {
   "cell_type": "code",
   "execution_count": 233,
   "id": "382a7134-b2e5-4534-9216-a265fd5d2e14",
   "metadata": {},
   "outputs": [
    {
     "data": {
      "text/plain": [
       "range(1, 10, 2)"
      ]
     },
     "execution_count": 233,
     "metadata": {},
     "output_type": "execute_result"
    }
   ],
   "source": [
    "r1 = range(1,10,2)  # here 2 is step\n",
    "r1"
   ]
  },
  {
   "cell_type": "code",
   "execution_count": 235,
   "id": "bc2b87b7-610f-41b7-937c-92341be5793d",
   "metadata": {},
   "outputs": [
    {
     "name": "stdout",
     "output_type": "stream",
     "text": [
      "1\n",
      "3\n",
      "5\n",
      "7\n",
      "9\n"
     ]
    }
   ],
   "source": [
    "for i in r1:\n",
    "    print(i)"
   ]
  },
  {
   "cell_type": "code",
   "execution_count": null,
   "id": "a72ae3d2-3a34-49a6-b360-b1827d250496",
   "metadata": {},
   "outputs": [],
   "source": []
  },
  {
   "cell_type": "code",
   "execution_count": null,
   "id": "a7280060-d40b-45b2-98da-be7c2732b3f1",
   "metadata": {},
   "outputs": [],
   "source": []
  },
  {
   "cell_type": "code",
   "execution_count": null,
   "id": "1aeddad0-6090-46cf-8b21-ee6cdc1f2db2",
   "metadata": {},
   "outputs": [],
   "source": []
  },
  {
   "cell_type": "code",
   "execution_count": null,
   "id": "36868d4d-8303-46f4-9f06-b73143c966e2",
   "metadata": {},
   "outputs": [],
   "source": []
  },
  {
   "cell_type": "code",
   "execution_count": null,
   "id": "9a1d5ec6-aa2d-455c-9a9f-a1986f1eda5a",
   "metadata": {},
   "outputs": [],
   "source": []
  },
  {
   "cell_type": "code",
   "execution_count": null,
   "id": "03750907-a436-4cd2-9b30-aa27c30a9ce1",
   "metadata": {},
   "outputs": [],
   "source": []
  },
  {
   "cell_type": "code",
   "execution_count": null,
   "id": "0dac3f92-d994-40c1-81b5-9df7cecce339",
   "metadata": {},
   "outputs": [],
   "source": []
  },
  {
   "cell_type": "code",
   "execution_count": null,
   "id": "9e6fe9f9-40e7-4ed0-a8f9-6dbb04f3cbb4",
   "metadata": {},
   "outputs": [],
   "source": []
  },
  {
   "cell_type": "code",
   "execution_count": null,
   "id": "e92b4dbb-2aee-483b-a865-cc3a311b1049",
   "metadata": {},
   "outputs": [],
   "source": []
  },
  {
   "cell_type": "code",
   "execution_count": null,
   "id": "b914e1f4-5bc8-4635-ab6e-2c5b3513c1d2",
   "metadata": {},
   "outputs": [],
   "source": []
  },
  {
   "cell_type": "code",
   "execution_count": null,
   "id": "a001f7a2-bb4d-4b3d-9a63-952df2b446db",
   "metadata": {},
   "outputs": [],
   "source": []
  },
  {
   "cell_type": "code",
   "execution_count": null,
   "id": "488fcbea-f35a-47e2-9a70-56c53909e29c",
   "metadata": {},
   "outputs": [],
   "source": []
  },
  {
   "cell_type": "code",
   "execution_count": null,
   "id": "b8e362ca-ef23-4b3b-90aa-ceb275590f78",
   "metadata": {},
   "outputs": [],
   "source": []
  },
  {
   "cell_type": "code",
   "execution_count": null,
   "id": "0f653e5d-8910-4339-bb24-1b4e57dbd11d",
   "metadata": {},
   "outputs": [],
   "source": []
  },
  {
   "cell_type": "code",
   "execution_count": null,
   "id": "2d5709b9-58bc-4e20-a3a3-0fc73a4815b4",
   "metadata": {},
   "outputs": [],
   "source": []
  },
  {
   "cell_type": "code",
   "execution_count": null,
   "id": "f4cf4f7d-af0c-4f33-b120-1f492e0302e0",
   "metadata": {},
   "outputs": [],
   "source": []
  },
  {
   "cell_type": "code",
   "execution_count": null,
   "id": "d8a881d3-9fb4-4308-9245-9fa4a56d63a5",
   "metadata": {},
   "outputs": [],
   "source": []
  },
  {
   "cell_type": "code",
   "execution_count": null,
   "id": "3d9f14af-1fa3-47df-a39f-df73e73dcce2",
   "metadata": {},
   "outputs": [],
   "source": []
  },
  {
   "cell_type": "code",
   "execution_count": null,
   "id": "f7d4240f-1d94-4447-8607-d1ebaf6dd4e7",
   "metadata": {},
   "outputs": [],
   "source": []
  },
  {
   "cell_type": "code",
   "execution_count": null,
   "id": "daeb6130-3db6-460e-b828-5cc736538853",
   "metadata": {},
   "outputs": [],
   "source": []
  },
  {
   "cell_type": "code",
   "execution_count": null,
   "id": "a02d875d-6f64-4dff-a8f6-8cc13a67969c",
   "metadata": {},
   "outputs": [],
   "source": []
  },
  {
   "cell_type": "code",
   "execution_count": null,
   "id": "3629c51b-8a1b-481c-994d-81f648634c5b",
   "metadata": {},
   "outputs": [],
   "source": []
  },
  {
   "cell_type": "code",
   "execution_count": null,
   "id": "ed0a4a0e-29b5-4194-a317-cd263a89d0aa",
   "metadata": {},
   "outputs": [],
   "source": []
  },
  {
   "cell_type": "code",
   "execution_count": null,
   "id": "9386f996-1262-40bd-82ea-a61886e2b4c5",
   "metadata": {},
   "outputs": [],
   "source": []
  },
  {
   "cell_type": "code",
   "execution_count": null,
   "id": "6647ad25-46c2-429d-bab8-18972296145b",
   "metadata": {},
   "outputs": [],
   "source": []
  },
  {
   "cell_type": "code",
   "execution_count": null,
   "id": "4d65f2e3-140c-4ab9-9fb0-e567739b2d81",
   "metadata": {},
   "outputs": [],
   "source": []
  },
  {
   "cell_type": "code",
   "execution_count": null,
   "id": "333ebc6a-e67e-4edf-b852-32a9185f1be6",
   "metadata": {},
   "outputs": [],
   "source": []
  }
 ],
 "metadata": {
  "kernelspec": {
   "display_name": "Python 3 (ipykernel)",
   "language": "python",
   "name": "python3"
  },
  "language_info": {
   "codemirror_mode": {
    "name": "ipython",
    "version": 3
   },
   "file_extension": ".py",
   "mimetype": "text/x-python",
   "name": "python",
   "nbconvert_exporter": "python",
   "pygments_lexer": "ipython3",
   "version": "3.12.7"
  }
 },
 "nbformat": 4,
 "nbformat_minor": 5
}
